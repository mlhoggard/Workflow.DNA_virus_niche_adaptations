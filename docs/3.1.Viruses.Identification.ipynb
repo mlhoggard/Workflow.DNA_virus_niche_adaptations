{
 "cells": [
  {
   "cell_type": "markdown",
   "metadata": {},
   "source": [
    "# 3.1 Viruses - DNA virus identification"
   ]
  },
  {
   "cell_type": "markdown",
   "metadata": {},
   "source": [
    "## Software and versions used in this study\n",
    "\n",
    "- seqmagick v0.7.0\n",
    "- VirSorter2 v2.2.3\n",
    "- VIBRANT v1.2.1\n",
    "- DeepVirFinder v1.0\n",
    "- Kraken2 v2.0.9\n",
    "- extract_kraken_reads.py (from KrakenTools)\n",
    "\n",
    "## Additional custom scripts\n",
    "\n",
    "Note: custom scripts have been tested in python v3.11.6 and R v4.2.1 and may not be stable in other versions.\n",
    "\n",
    "- scripts/viruses.identification/dvfind_add_fdr.R\n",
    "- scripts/viruses.identification/dvfpred_extract_fasta.py\n",
    "- scripts/viruses.identification/dvfpred_filter_euk.py\n",
    "\n",
    "*Required python packages: argparse, pandas, numpy, os, Bio.SeqIO.FastaIO*\n",
    "\n",
    "*Required R libraries: dplyr, readr, qvalue*"
   ]
  },
  {
   "cell_type": "markdown",
   "metadata": {},
   "source": [
    "***"
   ]
  },
  {
   "cell_type": "markdown",
   "metadata": {},
   "source": [
    "## Virus identification"
   ]
  },
  {
   "cell_type": "markdown",
   "metadata": {},
   "source": [
    "Identify putative DNA viruses in metagenome assemblies via VirSorter2, VIBRANT, and DeepVirFinder"
   ]
  },
  {
   "cell_type": "markdown",
   "metadata": {},
   "source": [
    "#### Data prep: filter out short contigs"
   ]
  },
  {
   "cell_type": "code",
   "execution_count": null,
   "metadata": {
    "vscode": {
     "languageId": "shellscript"
    }
   },
   "outputs": [],
   "source": [
    "mkdir -p DNA/1.assembly.m1000\n",
    "for i in {1..9}; do\n",
    "    seqmagick convert --min-length 1000 DNA/1.assembly/S${i}.spades/assembly.fasta DNA/1.assembly.m1000/S${i}.assembly.m1000.fasta\n",
    "done"
   ]
  },
  {
   "cell_type": "markdown",
   "metadata": {},
   "source": [
    "#### VirSorter2"
   ]
  },
  {
   "cell_type": "markdown",
   "metadata": {},
   "source": [
    "Identify virus contigs via VirSorter2"
   ]
  },
  {
   "cell_type": "code",
   "execution_count": null,
   "metadata": {
    "vscode": {
     "languageId": "shellscript"
    }
   },
   "outputs": [],
   "source": [
    "for i in {1..9}; do\n",
    "    virsorter run -j 32 \\\n",
    "    -i DNA/1.assembly.m1000/S${i}].assembly.m1000.fasta \\\n",
    "    -d virsorter2_database/ \\\n",
    "    --min-score 0.75 --include-groups dsDNAphage,NCLDV,RNA,ssDNA,lavidaviridae \\\n",
    "    -w DNA/3.viruses/1.identification/1.virsorter2/S${i} -l S${i} \\\n",
    "    --rm-tmpdir \\\n",
    "    all \\\n",
    "    --config LOCAL_SCRATCH=${TMPDIR:-/tmp}\n",
    "done"
   ]
  },
  {
   "cell_type": "markdown",
   "metadata": {},
   "source": [
    "Filter results to only retain contigs with a score > 0.9 or if they have a viral hallmark gene identified via python"
   ]
  },
  {
   "cell_type": "code",
   "execution_count": null,
   "metadata": {},
   "outputs": [],
   "source": [
    "python3\n",
    "import pandas as pd\n",
    "import numpy as np\n",
    "\n",
    "for i in range(1,10):\n",
    "    vsort_score = pd.read_csv('DNA/3.viruses/1.identification/1.virsorter2/S'+str(i)+'/S'+str(i)+'-final-viral-score.tsv', sep='\\t')\n",
    "    vsort_score = vsort_score[np.logical_or.reduce((vsort_score['max_score'] >= 0.9, vsort_score['hallmark'] > 0))]\n",
    "    vsort_score.to_csv('DNA/3.viruses/1.identification/1.virsorter2/S'+str(i)+'/S'+str(i)+'-final-viral-score_filt_0.9.tsv', sep='\\t', index=False)\n",
    "\n",
    "quit()"
   ]
  },
  {
   "cell_type": "markdown",
   "metadata": {},
   "source": [
    "#### VIBRANT"
   ]
  },
  {
   "cell_type": "markdown",
   "metadata": {},
   "source": [
    "Identify virus contigs via VIBRANT"
   ]
  },
  {
   "cell_type": "code",
   "execution_count": null,
   "metadata": {
    "vscode": {
     "languageId": "shellscript"
    }
   },
   "outputs": [],
   "source": [
    "for i in {1..9}; do\n",
    "    VIBRANT_run.py -t 16 \\\n",
    "    -i DNA/1.assembly.m1000/S${i}.assembly.m1000.fasta \\\n",
    "    -d $DB_PATH \\\n",
    "    -folder DNA/3.viruses/1.identification/1.vibrant/\n",
    "done"
   ]
  },
  {
   "cell_type": "markdown",
   "metadata": {},
   "source": [
    "#### DeepVirFinder"
   ]
  },
  {
   "cell_type": "markdown",
   "metadata": {},
   "source": [
    "Identify virus contigs via DeepVirFinder"
   ]
  },
  {
   "cell_type": "code",
   "execution_count": null,
   "metadata": {
    "vscode": {
     "languageId": "shellscript"
    }
   },
   "outputs": [],
   "source": [
    "for i in {1..9}; do\n",
    "    ${DeepVirFinder_PATH}/dvf.py \\\n",
    "    -i DNA/1.assembly.m1000/S${i}.assembly.m1000.fasta \\\n",
    "    -m ${DeepVirFinder_PATH}/models \\\n",
    "    -o DNA/3.viruses/1.identification/1.deepvirfinder/ \\\n",
    "    -l 1000 \\\n",
    "    -c 20\n",
    "    # Calculate fdr q values and filter by (score >= 0.9) & (pvalue <=0.05) & (FDR.p.adj <= 0.1)\n",
    "    scripts/viruses.identification/dvfind_add_fdr.R \"DNA/3.viruses/1.identification/1.deepvirfinder/S${i}.assembly.m1000.fasta_gt1000bp_dvfpred.txt\"\n",
    "done"
   ]
  },
  {
   "cell_type": "markdown",
   "metadata": {},
   "source": [
    "Filter DeepVirFinder results to remove eukaryotic contigs"
   ]
  },
  {
   "cell_type": "code",
   "execution_count": null,
   "metadata": {
    "vscode": {
     "languageId": "shellscript"
    }
   },
   "outputs": [],
   "source": [
    "for i in {1..9}; do\n",
    "    # Extract sequences for contigs identified as putatively 'viral' by DeepVirFinder\n",
    "    scripts/viruses.identification/dvfpred_extract_fasta.py \\\n",
    "    --deepvirfinder_results DNA/3.viruses/1.identification/1.deepvirfinder/S${i}.assembly.m1000.fasta_gt1000bp_dvfpred.txt \\\n",
    "    --assembly_fasta DNA/1.assembly.m1000/S${i}.assembly.m1000.fasta \\\n",
    "    --output DNA/3.viruses/1.identification/1.deepvirfinder/S${i}_dvfpred.fna \\\n",
    "    # Assign taxonomy via Kraken2\n",
    "    kraken2 --threads 20 --db nt --use-names \\\n",
    "    --report DNA/3.viruses/1.identification/1.deepvirfinder/dvfpred_kraken/S${i}.kraken_report.txt \\\n",
    "    --output DNA/3.viruses/1.identification/1.deepvirfinder/dvfpred_kraken/S${i}.kraken_output.txt \\\n",
    "    DNA/3.1.viruses.identification/1.deepvirfinder/S${i}_dvfpred.fna\n",
    "    # Extract sequences matching Eukaryota (extract_kraken_reads.py, from KrakenTools) (n.b. -t 2759 = Eukaryota)\n",
    "    extract_kraken_reads.py \\\n",
    "    -k DNA/3.viruses/1.identification/1.deepvirfinder/dvfpred_kraken/S${i}.kraken_output.txt \\\n",
    "    -r DNA/3.viruses/1.identification/1.deepvirfinder/dvfpred_kraken/S${i}.kraken_report.txt \\\n",
    "    -s DNA/3.viruses/1.identification/1.deepvirfinder/S${i}_dvfpred.fna \\\n",
    "    -t 2759 --include-children \\\n",
    "    -o DNA/3.viruses/1.identification/1.deepvirfinder/dvfpred_kraken/S${i}.kraken_Euk.fna\n",
    "    # Filter Eukaryota sequences out of DeepVirFinder results (dvfpred_filter_euk.py)\n",
    "    scripts/viruses.identification/dvfpred_filter_euk.py \\\n",
    "    --deepvirfinder_results DNA/3.viruses/1.identification/1.deepvirfinder/S${i}.assembly.m1000.fasta_gt1000bp_dvfpred.txt \\\n",
    "    --Euk_fasta DNA/3.viruses/1.identification/1.deepvirfinder/dvfpred_kraken/S${i}.kraken_Euk.fna \\\n",
    "    --output DNA/3.viruses/1.identification/1.deepvirfinder/S${i}.dvfpred_filtered.txt\n",
    "done"
   ]
  },
  {
   "cell_type": "markdown",
   "metadata": {},
   "source": [
    "***"
   ]
  }
 ],
 "metadata": {
  "language_info": {
   "name": "python"
  }
 },
 "nbformat": 4,
 "nbformat_minor": 2
}
