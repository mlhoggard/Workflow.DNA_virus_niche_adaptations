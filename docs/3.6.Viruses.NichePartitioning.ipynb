{
 "cells": [
  {
   "cell_type": "markdown",
   "metadata": {},
   "source": [
    "# 3.6 Virus niche partitioning"
   ]
  },
  {
   "cell_type": "markdown",
   "metadata": {},
   "source": [
    "## Software and versions used in this study\n",
    "\n",
    "- prodigal-gv v2.9.0\n",
    "- vConTACT2 v2.0.11.3\n",
    "\n",
    "## Additional custom scripts\n",
    "\n",
    "Note: custom scripts have been tested in python v3.11.6 and R v4.2.1 and may not be stable in other versions.\n",
    "\n",
    "- scripts/viruses.general/virus_niche_summarise_vConTACT2_clusters.py\n",
    "\n",
    "*Required python packages: argparse, pandas, numpy, re, Bio.SeqIO.FastaIO, venn, pylab*"
   ]
  },
  {
   "cell_type": "markdown",
   "metadata": {},
   "source": [
    "***"
   ]
  },
  {
   "cell_type": "markdown",
   "metadata": {},
   "source": [
    "## Niche partitioning: Analyses of viral clustering and phylogeny based on environment types \n",
    "\n",
    "In this study, virus genomes were analysed via gene-sharing clustering (vConTACT2) and phylogeny inference (concatenated protein alignments of \"core genes\") to assess relationships between virus phylogeny and environmental adaptation and niche partitioning.\n",
    "\n",
    "Note: for these analyses, viruses were categorised as non-saline, saline, and terrestrial, based on the environment type they were recovered from. Estuary vOTUs recovered from this study were categorised into environment types (non-saline or saline; water or sediment) based on the sample site where they were most abundant (based on read mapping and coverage caluculations)."
   ]
  },
  {
   "cell_type": "markdown",
   "metadata": {},
   "source": [
    "## vConTACT2 clustering and ecosystem types\n",
    "\n",
    "vOTUs were clustered together with reference genomes from the IMG/VR database (filtered for high-quality 'environmental' viruses) via vConTACT2. The environment types that viruses within clusters were derived from were analysed to assess environmental adaptation and/or niche partitioning of closely related viruses."
   ]
  },
  {
   "cell_type": "markdown",
   "metadata": {},
   "source": [
    "#### Run vOTUs and IMG/VR references through vConTACT2"
   ]
  },
  {
   "cell_type": "code",
   "execution_count": null,
   "metadata": {},
   "outputs": [],
   "source": [
    "mkdir -p DNA/3.viruses/9.niche_patitioning/vConTACT2\n",
    "\n",
    "# concatenate vOTUs w/ IMG/VR dataset\n",
    "cat DNA/3.viruses/5.checkv_vOTUs/vOTUs.fna \\\n",
    "Databases/IMG_VR/IMGVR_subset_Environmental.fna \\\n",
    "> DNA/3.viruses/9.niche_patitioning/vConTACT2/votus_and_IMGVR.fna\n",
    "\n",
    "# predict genes\n",
    "prodigal-gv -p meta -q \\\n",
    "-i DNA/3.viruses/9.niche_patitioning/vConTACT2/votus_and_IMGVR.fna \\\n",
    "-a DNA/3.viruses/9.niche_patitioning/vConTACT2/proteins.faa\n",
    "\n",
    "# run vConTACT2\n",
    "vcontact2_gene2genome -p DNA/3.viruses/9.niche_patitioning/vConTACT2/proteins.faa -o DNA/3.viruses/9.niche_patitioning/vConTACT2/viral_genomes_g2g.csv -s 'Prodigal-FAA'\n",
    "\n",
    "vcontact2 -t 32 \\\n",
    "--raw-proteins DNA/3.viruses/9.niche_patitioning/vConTACT2/proteins.faa \\\n",
    "--rel-mode Diamond \\\n",
    "--proteins-fp DNA/3.viruses/9.niche_patitioning/vConTACT2/viral_genomes_g2g.csv \\\n",
    "--db 'ProkaryoticViralRefSeq211-Merged' \\\n",
    "--c1-bin /path/to/cluster_one-1.0.jar \\\n",
    "--output-dir DNA/3.viruses/9.niche_patitioning/vConTACT2/vConTACT2_Results\n"
   ]
  },
  {
   "cell_type": "markdown",
   "metadata": {},
   "source": [
    "#### Analyse clusters by environment type\n",
    "\n",
    "These steps were originally done manually via python. The code has been put into this script for simplicity, but includes hard-coded portions that are study-specific (e.g. IMG/VR environment types/categorisation of interest, vOTU estuary zone classifications, etc.). For broader use cases this script will need to be redeveloped.\n",
    "\n",
    "In its current form this script generates summaries of environment types associated with clusters for: 1. all clusters that contain a vOTU; and 2. all clusters (vOTUs and/or IMG/VR sequences). For the latter, it also generates Venn diagrams of cluster and environment associations based on: 1. non-saline, saline, terrestrial, and sediment; and 2. non-saline, saline, and terrestrial."
   ]
  },
  {
   "cell_type": "code",
   "execution_count": null,
   "metadata": {
    "vscode": {
     "languageId": "shellscript"
    }
   },
   "outputs": [],
   "source": [
    "mkdir -p DNA/3.viruses/9.niche_patitioning/vConTACT2/results_summaries\n",
    "\n",
    "scripts/viruses.general/virus_niche_summarise_vConTACT2_clusters.py \\\n",
    "-v DNA/3.viruses/9.niche_patitioning/vConTACT2/vConTACT2_Results/genome_by_genome_overview.csv \\\n",
    "-i Databases/IMG_VR/IMGVR_all_Sequence_information-high_confidence.tsv \\\n",
    "-w DNA/4.read_mapping/WGS/ecosystem_type_by_mostAbundant.vOTUs.tsv \\\n",
    "-o DNA/3.viruses/9.niche_patitioning/vConTACT2/results_summaries"
   ]
  },
  {
   "cell_type": "markdown",
   "metadata": {},
   "source": [
    "## *Caudoviricetes* \"core genes\" phylogeny and environment types\n",
    "\n",
    "Trees of inferred *Caudoviricetes* phylogeny were generated as described in the previous section on inferring *Caudoviricetes* phylogeny via concatenated protein alignment based on a set of \"core genes\". Trees were annotated based on ecosystem types (as outlined above) and manually inspected for associations between phylogenetic clustering and ecosystem types. \n",
    "\n",
    "Analysed data included Waiwera vOTUs together with all high-quality sequences from the IMG/VR database."
   ]
  },
  {
   "cell_type": "markdown",
   "metadata": {},
   "source": [
    "***"
   ]
  }
 ],
 "metadata": {
  "language_info": {
   "name": "python"
  }
 },
 "nbformat": 4,
 "nbformat_minor": 2
}
