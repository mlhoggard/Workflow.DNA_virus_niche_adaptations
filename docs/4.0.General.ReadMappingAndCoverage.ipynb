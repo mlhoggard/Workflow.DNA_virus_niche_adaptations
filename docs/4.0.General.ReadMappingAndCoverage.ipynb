{
 "cells": [
  {
   "cell_type": "markdown",
   "metadata": {},
   "source": [
    "# 4.0 Read mapping and coverage"
   ]
  },
  {
   "cell_type": "markdown",
   "metadata": {},
   "source": [
    "## Software and versions used in this study\n",
    "\n",
    "- BBMap v39.01\n",
    "- SAMtools v1.19\n",
    "- featureCounts (subread-2.0.6-Linux-x86_64)\n",
    "\n",
    "## Additional custom scripts\n",
    "\n",
    "Note: custom scripts have been tested in python v3.11.6 and R v4.2.1 and may not be stable in other versions.\n",
    "\n",
    "- scripts/general/featurecounts_make_feature_table.py\n",
    "- scripts/general/summarise_counts.py\n",
    "- scripts/general/summarise_counts.R\n",
    "\n",
    "*Required python packages: argparse, pandas, numpy, re, pathlib, subprocess, os*\n",
    "\n",
    "*Required R libraries: dplyr, tibble, readr, tidyr, fuzzyjoin, stringr, matrixStats, edgeR, EDASeq*"
   ]
  },
  {
   "cell_type": "markdown",
   "metadata": {},
   "source": [
    "***"
   ]
  },
  {
   "cell_type": "markdown",
   "metadata": {},
   "source": [
    "## Read mapping and abundance\n",
    "\n",
    "Map DNA and RNA sequencing reads to dereplicated genomes and calculate abundances across samples. \n",
    "\n",
    "Note: \n",
    "\n",
    "- If you have prokaryote and/or eukaryote metagenome-assembled genomes available from the same dataset, it is preferable to include these together with vOTUs when generating the read mapping index to limit mis-mapping of non-virus-derived reads to similar genomic regions in viruses (e.g. AMGs derived from host genomes)"
   ]
  },
  {
   "cell_type": "markdown",
   "metadata": {},
   "source": [
    "#### Prep MAG contigIDs:\n",
    "\n",
    "- If necessary, modify scaffold names within each MAG fna file to include file name (i.e. magID) to assist identifying individual genomes in downstream analyses"
   ]
  },
  {
   "cell_type": "code",
   "execution_count": null,
   "metadata": {},
   "outputs": [],
   "source": [
    "for file in DNA/2.prokaryote_MAGs/4.bin_dereplication_dRep/1.dRep_out/dereplicated_genomes/*.fa; do\n",
    "    magID=$(basename ${file} .fa)\n",
    "    sed -i -e \"s/>/>${magID}_/g\" ${file}\n",
    "done\n"
   ]
  },
  {
   "cell_type": "markdown",
   "metadata": {},
   "source": [
    "#### Concatenate MAGs with vOTUs"
   ]
  },
  {
   "cell_type": "code",
   "execution_count": null,
   "metadata": {},
   "outputs": [],
   "source": [
    "mkdir -p DNA/4.read_mapping\n",
    "cat DNA/3.viruses/5.checkv_vOTUs/vOTUs.fna DNA/2.prokaryote_MAGs/4.bin_dereplication_dRep/1.dRep_out/dereplicated_genomes/*.fa > DNA/4.read_mapping/vOTU_and_MAG_contigs.fna"
   ]
  },
  {
   "cell_type": "markdown",
   "metadata": {},
   "source": [
    "#### Read mapping: build reference index\n"
   ]
  },
  {
   "cell_type": "code",
   "execution_count": null,
   "metadata": {},
   "outputs": [],
   "source": [
    "cd DNA/4.read_mapping/\n",
    "bbmap.sh -Xmx24g ref=vOTU_and_MAG_contigs.fna"
   ]
  },
  {
   "cell_type": "markdown",
   "metadata": {},
   "source": [
    "### Whole-genome sequencing (WGS)"
   ]
  },
  {
   "cell_type": "markdown",
   "metadata": {},
   "source": [
    "#### WGS: read mapping\n",
    "\n",
    "Note: Read mapping is set to 95% identity (`minid = 0.95`) in the example below due to vOTUs being clustered at 95% sequence similarity (over >= 85% sequence length). Modify as necessary.\n"
   ]
  },
  {
   "cell_type": "code",
   "execution_count": null,
   "metadata": {
    "vscode": {
     "languageId": "shellscript"
    }
   },
   "outputs": [],
   "source": [
    "cd DNA/4.read_mapping/\n",
    "mkdir -p WGS\n",
    "\n",
    "for i in {1..9}; do\n",
    "    # Read mapping\n",
    "    bbmap.sh \\\n",
    "    t=30 -Xmx140g ambiguous=best minid=0.95 \\\n",
    "    in1=../1.Qual_filtered_trimmomatic/S${i}_R1.fastq \\\n",
    "    in2=../1.Qual_filtered_trimmomatic/S${i}_R2.fastq \\\n",
    "    covstats=WGS/S${i}.covstats.txt \\\n",
    "    statsfile=WGS/S${i}.statsfile.txt \\\n",
    "    out=WGS/S${i}.sam\n",
    "    # convert to bam\n",
    "    samtools sort -@ 10 -o WGS/S${i}.bam WGS/S${i}.sam\n",
    "    # Pileup (from BBMap tools)\n",
    "    pileup.sh in=WGS/S${i}.sam rpkm=WGS/S${i}.covstats_pileup.txt\n",
    "    # optional clean up\n",
    "    rm WGS/Filt.S${i}.sam\n",
    "done"
   ]
  },
  {
   "cell_type": "markdown",
   "metadata": {},
   "source": [
    "#### WGS: Compile counts table of read counts per contig per sample\n",
    "\n",
    "Note:\n",
    "\n",
    "- The companion script *summarise_counts.R* must be located in a directory available in your PATH variable (Alternatively, you can add the scripts directory to $PATH via `export PATH=\"/path/to/scripts/general/:$PATH\"`)\n",
    "- To input multiple files (i.e. read mapping from multiple samples), the quote marks are necessary with `--input '*.covstats_pileup.txt'` for the wildcard to be interpreted correctly."
   ]
  },
  {
   "cell_type": "code",
   "execution_count": null,
   "metadata": {},
   "outputs": [],
   "source": [
    "scripts/general/summarise_counts.py \\\n",
    "--input 'DNA/4.read_mapping/WGS/*.covstats_pileup.txt' --format pileup \\\n",
    "--lib_norm total \\\n",
    "--count_threshold 10 \\\n",
    "--read_counts DNA/4.read_mapping/WGS/wgs.summary_read_counts.tsv \\\n",
    "--output DNA/4.read_mapping/WGS/wgs.summary_count_table.tsv\n"
   ]
  },
  {
   "cell_type": "markdown",
   "metadata": {},
   "source": [
    "### Whole-transcriptome sequencing (WTS)\n",
    "\n",
    "Map trimmed and filtered (incl rRNA removal) RNA reads to the same index generated above to calculate feature (e.g. gene) abundance (i.e. transcription)"
   ]
  },
  {
   "cell_type": "markdown",
   "metadata": {},
   "source": [
    "#### WTS: read mapping"
   ]
  },
  {
   "cell_type": "code",
   "execution_count": null,
   "metadata": {},
   "outputs": [],
   "source": [
    "cd DNA/4.read_mapping/\n",
    "mkdir -p WTS/\n",
    "\n",
    "for i in {1..9}; do\n",
    "    # Read mapping\n",
    "    bbmap.sh \\\n",
    "    t=30 -Xmx90g ambiguous=best minid=0.95 \\\n",
    "    in1=../../RNA/2.rRNA_filtered/unaligned/S${i}_non_rRNA_fwd.fq \\\n",
    "    in2=../../RNA/2.rRNA_filtered/unaligned/S${i}_non_rRNA_rev.fq \\\n",
    "    covstats=WTS/S${i}.covstats.txt \\\n",
    "    statsfile=WTS/S${i}.statsfile.txt \\\n",
    "    out=WTS/S${i}.sam\n",
    "    # convert to bam\n",
    "    samtools sort -@ 20 -o WTS/S${i}.bam WTS/S${i}.sam\n",
    "    # pileup \n",
    "    pileup.sh in=WTS/S${i}.sam rpkm=WTS/S${i}.covstats_pileup.txt\n",
    "    # optional clean up\n",
    "    rm WTS/S${i}.sam\n",
    "done"
   ]
  },
  {
   "cell_type": "markdown",
   "metadata": {},
   "source": [
    "#### WTS: Generate feature table (gene_coords) table for featureCounts\n",
    "\n",
    "Generate a feature table in SAF format (required for featureCounts)\n",
    "\n",
    "You can pull this information from *prodigal* or *DRAM/DRAM-v* output files. The script below generates an SAF formatted feature table from DRAM (prokaryotes) and/or DRAMv (viruses) annotations.tsv, rrna.tsv, and trna.tsv data."
   ]
  },
  {
   "cell_type": "code",
   "execution_count": null,
   "metadata": {
    "vscode": {
     "languageId": "shellscript"
    }
   },
   "outputs": [],
   "source": [
    "scripts/general/featurecounts_make_feature_table.py \\\n",
    "-a DNA/2.prokaryote_MAGs/5.gene_annotation/1.dram_annotate_dRep_mags/collated_dram_annotations.tsv \\\n",
    "-t DNA/2.prokaryote_MAGs/5.gene_annotation/1.dram_annotate_dRep_mags/collated_dram_trnas.tsv \\\n",
    "-r DNA/2.prokaryote_MAGs/5.gene_annotation/1.dram_annotate_dRep_mags/collated_dram_rrnas.tsv \\\n",
    "-x DNA/3.viruses/7.gene_annotation/dramv_annotation/collated_dramv_annotations.tsv \\\n",
    "-y DNA/3.viruses/7.gene_annotation/dramv_annotation/collated_dramv_trnas.tsv \\\n",
    "-z DNA/3.viruses/7.gene_annotation/dramv_annotation/collated_dramv_rrnas.tsv \\\n",
    "-o DNA/4.read_mapping/WTS/gene_coords.SAF"
   ]
  },
  {
   "cell_type": "markdown",
   "metadata": {},
   "source": [
    "#### WTS: Run featureCounts\n",
    "\n",
    "Assign mapped RNA reads to features (e.g. genes) via featureCounts\n"
   ]
  },
  {
   "cell_type": "code",
   "execution_count": null,
   "metadata": {},
   "outputs": [],
   "source": [
    "mkdir -p DNA/4.read_mapping/WTS/featureCounts\n",
    "\n",
    "featureCounts \\\n",
    "-T 8 -p --countReadPairs -t exon -F SAF \\\n",
    "-a DNA/4.read_mapping/WTS/gene_coords.SAF \\\n",
    "-o DNA/4.read_mapping/WTS/featureCounts/wts.gene_counts.txt \\\n",
    "DNA/4.read_mapping/WTS/*.bam\n"
   ]
  },
  {
   "cell_type": "markdown",
   "metadata": {},
   "source": [
    "#### WTS: Generate sample mapping file\n",
    "\n",
    "Create sample mapping file. \n",
    "\n",
    "Note: this is required for *summarise_counts.py* to summarise featureCounts data. This expects a tsv file with the following colums: \n",
    "\n",
    "- sampleID: unique filename substrings (one per file) that identify the sample\n",
    "- group: group or category that that sample belongs to (e.g. 'freshwater', 'marine') (this is used if calculating TMM and/or edgeR stats)\n",
    "- lib.size: total library size (read counts) of the sample. Note, this can be taken from the sample's statsfile.txt generated during BBMap readmapping (in the first line: \"Reads Used: <library_size>\")\n",
    "\n",
    "Example:\n",
    "\n",
    "| sampleID | group | lib.size |\n",
    "| --- | --- | --- |\n",
    "| S1 | freshwater | 15800068 |\n",
    "| S2 | freshwater | 30547744 |\n",
    "| S3 | freshwater | 18567630 |\n",
    "| S4 | marine | 15753862 |\n",
    "| S5 | marine | 11432528 |\n",
    "| S6 | marine | 18701302 |"
   ]
  },
  {
   "cell_type": "markdown",
   "metadata": {},
   "source": [
    "#### WTS: feature (gene) coverage\n",
    "\n",
    "Note: The companion script *summarise_counts.R* must be located in a directory available to your PATH variable (Alternatively, you can add the scripts directory to $PATH via `export PATH=\"/path/to/scripts/general/:$PATH\"`)"
   ]
  },
  {
   "cell_type": "code",
   "execution_count": null,
   "metadata": {
    "vscode": {
     "languageId": "shellscript"
    }
   },
   "outputs": [],
   "source": [
    "scripts/general/summarise_counts.py \\\n",
    "--input DNA/4.read_mapping/WTS/featureCounts/wts.gene_counts.txt --format featurecounts \\\n",
    "--sample_mapping_file DNA/4.read_mapping/WTS/wts_sample_mapping_file.txt \\\n",
    "--lib_norm total \\\n",
    "--count_threshold 5 \\\n",
    "--read_counts DNA/4.read_mapping/WTS/wts.summary_read_counts.tsv \\\n",
    "--output DNA/4.read_mapping/WTS/wts.summary_count_table.tsv"
   ]
  },
  {
   "cell_type": "markdown",
   "metadata": {},
   "source": [
    "***"
   ]
  }
 ],
 "metadata": {
  "language_info": {
   "name": "python"
  }
 },
 "nbformat": 4,
 "nbformat_minor": 2
}
