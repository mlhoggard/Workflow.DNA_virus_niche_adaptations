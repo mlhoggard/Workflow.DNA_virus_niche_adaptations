{
 "cells": [
  {
   "cell_type": "markdown",
   "metadata": {},
   "source": [
    "# 4.2 Prokaryote antiphage defence"
   ]
  },
  {
   "cell_type": "markdown",
   "metadata": {},
   "source": [
    "## Software and versions used in this study\n",
    "\n",
    "- CRISPRDetect v2.4\n",
    "- PADLOC v2.0.0 (database: PADLOC-DB v2.0.0)\n",
    "\n",
    "## Additional custom scripts\n",
    "\n",
    "Note: custom scripts have been tested in python v3.11.6 and R v4.2.1 and may not be stable in other versions.\n",
    "\n",
    "- scripts/general/antiphage_padloc_summary_table.py\n",
    "\n",
    "*Required python packages: argparse, pandas, numpy, re, glob*"
   ]
  },
  {
   "cell_type": "markdown",
   "metadata": {},
   "source": [
    "***"
   ]
  },
  {
   "cell_type": "markdown",
   "metadata": {},
   "source": [
    "## Antiphage defence mechanisms\n",
    "\n",
    "Identify antiphage defence mechanisms present in prokaryote MAGs data via PADLOC and CRISPRDetect"
   ]
  },
  {
   "cell_type": "markdown",
   "metadata": {},
   "source": [
    "#### Run CRISPRDetect\n",
    "\n",
    "Note: It may be necessary to edit the header 'ArrayQualityScore' output by CRISPRDetect to be 'Array_quality_score' (e.g. this is the format expected by PADLOC v2.0.0)"
   ]
  },
  {
   "cell_type": "code",
   "execution_count": null,
   "metadata": {
    "vscode": {
     "languageId": "shellscript"
    }
   },
   "outputs": [],
   "source": [
    "mkdir -p DNA/2.prokaryote_mags/6.antiphage_defense/crispr_detect\n",
    "\n",
    "for mag_fna in DNA/2.prokaryote_mags/4.bin_dereplication_dRep/1.dRep_out/dereplicated_genomes/*.fa; do\n",
    "    output_name=$(basename ${mag_fna} .fa)\n",
    "    perl CRISPRDetect.pl -array_quality_score_cutoff 1 -T 16 \\\n",
    "    -f ${mag_fna} \\\n",
    "    -o DNA/2.prokaryote_mags/6.antiphage_defense/crispr_detect/${output_name} \\\n",
    "    > DNA/2.prokaryote_mags/6.antiphage_defense/crispr_detect/${output_name}.log \n",
    "    # Edit 'ArrayQualityScore' to 'Array_quality_score' (formatting expected by this version of PADLOC)\n",
    "    sed -i -e \"s/ArrayQualityScore/Array_quality_score/g\" DNA/2.prokaryote_mags/6.antiphage_defense/crispr_detect/${output_name}.gff\n",
    "done"
   ]
  },
  {
   "cell_type": "markdown",
   "metadata": {},
   "source": [
    "#### Run PADLOC"
   ]
  },
  {
   "cell_type": "code",
   "execution_count": null,
   "metadata": {
    "vscode": {
     "languageId": "shellscript"
    }
   },
   "outputs": [],
   "source": [
    "mkdir -p DNA/2.prokaryote_mags/6.antiphage_defense/padloc\n",
    "\n",
    "for mag_fna in DNA/2.prokaryote_mags/4.bin_dereplication_dRep/1.dRep_out/dereplicated_genomes/*.fa; do\n",
    "    output_name=$(basename ${mag_fna} .fa)\n",
    "    padloc --cpu 16 --force \\\n",
    "    --fna ${mag_fna} \\\n",
    "    --crispr DNA/2.prokaryote_mags/6.antiphage_defense/crispr_detect/${output_name}.gff \\\n",
    "    --outdir DNA/2.prokaryote_mags/6.antiphage_defense/padloc\n",
    "done\n"
   ]
  },
  {
   "cell_type": "markdown",
   "metadata": {},
   "source": [
    "#### Concatenate results into summary table via *antiphage_padloc_summary_table.py*"
   ]
  },
  {
   "cell_type": "code",
   "execution_count": null,
   "metadata": {
    "vscode": {
     "languageId": "shellscript"
    }
   },
   "outputs": [],
   "source": [
    "scripts/general/antiphage_padloc_summary_table.py \\\n",
    "-p DNA/2.prokaryote_mags/6.antiphage_defense/padloc/ \\\n",
    "-o DNA/2.prokaryote_mags/6.antiphage_defense/padloc.summary_table.csv"
   ]
  },
  {
   "cell_type": "markdown",
   "metadata": {},
   "source": [
    "***"
   ]
  }
 ],
 "metadata": {
  "language_info": {
   "name": "python"
  }
 },
 "nbformat": 4,
 "nbformat_minor": 2
}
