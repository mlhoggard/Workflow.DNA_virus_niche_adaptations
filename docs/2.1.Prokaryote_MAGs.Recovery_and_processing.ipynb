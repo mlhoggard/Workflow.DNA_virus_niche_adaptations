{
 "cells": [
  {
   "cell_type": "markdown",
   "metadata": {},
   "source": [
    "# 2.1 Prokaryote metagenome-assembled genomes (MAGs)"
   ]
  },
  {
   "cell_type": "markdown",
   "metadata": {},
   "source": [
    "## Software and versions used in this study\n",
    "\n",
    "- BBMap v37.93\n",
    "- CONCOCT v0.4.1\n",
    "- MetaBAT v2.12.1\n",
    "- MaxBin v2.2.4\n",
    "- DAS_Tool v1.1.1\n",
    "- CheckM v1.2.1\n",
    "- GTDB-TK v2.4.0 (database v214)\n",
    "- dRep v1.4.3\n",
    "- DRAM v1.3.5\n",
    "\n",
    "## Additional custom scripts\n",
    "\n",
    "Note: custom scripts have been tested in python v3.11.6 and R v4.2.1 and may not be stable in other versions.\n",
    "\n",
    "- scripts/general/compile_dram_annotations.py\n",
    "\n",
    "*Required python packages: argparse, pandas, numpy, os, glob*"
   ]
  },
  {
   "cell_type": "markdown",
   "metadata": {},
   "source": [
    "***"
   ]
  },
  {
   "cell_type": "markdown",
   "metadata": {},
   "source": [
    "## Prokaryote MAGs\n",
    "\n",
    "Further detail on the process of binning assembled contigs to recover prokaryote MAGs is available [here](github.com/GenomicsAotearoa/environmental_metagenomics)"
   ]
  },
  {
   "cell_type": "markdown",
   "metadata": {},
   "source": [
    "#### Calculate coverage (per assembly)\n",
    "\n",
    "Coverage is used in some binning software"
   ]
  },
  {
   "cell_type": "code",
   "execution_count": null,
   "metadata": {
    "vscode": {
     "languageId": "shellscript"
    }
   },
   "outputs": [],
   "source": [
    "cd \n",
    "mkdir -p /workdir/DNA/2.prokaryote_mags/1.initial_binning/0.prep/1.coverage\n",
    "\n",
    "for i in {1..9}; do\n",
    "    bbmap.sh t=30 \\\n",
    "    ref=DNA/1.assembly.m1000/S${i}.assembly.m1000.fasta nodisk \\\n",
    "    in1=DNA/1.Qual_filtered_trimmomatic/S${i}_R1.fastq \\\n",
    "    in2=DNA/1.Qual_filtered_trimmomatic/S${i}_R2.fastq \\\n",
    "    out=DNA/2.prokaryote_mags/1.initial_binning/0.prep/1.coverage/S${i}.sam\n",
    "    # convert to bam\n",
    "    samtools sort -@ 10 -o DNA/2.prokaryote_mags/1.initial_binning/0.prep/1.coverage/S${i}.bam DNA/2.prokaryote_mags/1.initial_binning/0.prep/1.coverage/S${i}.sam\n",
    "done"
   ]
  },
  {
   "cell_type": "markdown",
   "metadata": {},
   "source": [
    "#### Binning prep"
   ]
  },
  {
   "cell_type": "code",
   "execution_count": null,
   "metadata": {
    "vscode": {
     "languageId": "shellscript"
    }
   },
   "outputs": [],
   "source": [
    "# MetaBat coverage table (via jgi_summarize_bam_contig_depths from MetaBAT)\n",
    "for i in {1..9}; do\n",
    "    jgi_summarize_bam_contig_depths \\\n",
    "    --outputDepth DNA/2.prokaryote_mags/1.initial_binning/0.prep/1.coverage/S${i}.metabat.txt \\\n",
    "    DNA/2.prokaryote_mags/1.initial_binning/0.prep/1.coverage/S${i}.bam\n",
    "done\n",
    "\n",
    "# MaxBin coverage table (extract from MetaBat coverage table)\n",
    "for i in {1..9}; do\n",
    "    cut -f1,4 DNA/2.prokaryote_mags/1.initial_binning/0.prep/1.coverage/S${i}.metabat.txt > DNA/2.prokaryote_mags/1.binning/0.prep/1.coverage/S${i}.maxbin.txt\n",
    "done\n",
    "\n",
    "# CONCOCT prep: fragment contigs and generate coverage table\n",
    "mkdir -p DNA/2.prokaryote_mags/1.initial_binning/0.prep/2.concoct_prep\n",
    "for i in {1..9}; do\n",
    "    # prep\n",
    "    cut_up_fasta.py DNA/1.assembly.m1000/S${i}.assembly.m1000.fasta -c 10000 -o 0 --merge_last \\\n",
    "    -b DNA/2.prokaryote_mags/1.initial_binning/0.prep/2.concoct_prep/S${i}.10k.bed \\\n",
    "    > DNA/2.prokaryote_mags/1.initial_binning/0.prep/2.concoct_prep/S${i}.10k.fa\n",
    "    samtools index DNA/2.prokaryote_mags/1.initial_binning/0.prep/1.coverage/S${i}.bam\n",
    "    concoct_coverage_table.py \\\n",
    "    DNA/2.prokaryote_mags/1.initial_binning/0.prep/2.concoct_prep/S${i}.10k.bed \\\n",
    "    DNA/2.prokaryote_mags/1.initial_binning/0.prep/1.coverage/S${i}.bam \\\n",
    "    > DNA/2.prokaryote_mags/1.initial_binning/0.prep/2.concoct_prep/S${i}.10k.txt\n",
    "done\n"
   ]
  },
  {
   "cell_type": "markdown",
   "metadata": {},
   "source": [
    "#### Recover initial bins\n",
    "\n",
    "Binning via MetaBAT, and MaxBin, and CONCOCT"
   ]
  },
  {
   "cell_type": "code",
   "execution_count": null,
   "metadata": {
    "vscode": {
     "languageId": "shellscript"
    }
   },
   "outputs": [],
   "source": [
    "cd /workdir/DNA/2.prokaryote_mags/1.initial_binning\n",
    "mkdir -p 2.binning\n",
    "\n",
    "# MetaBat\n",
    "for i in {1..9}; do\n",
    "    metabat2 -t 10 -s 50000 \\\n",
    "    -i ../../1.assembly.m1000/S${i}.assembly.m1000.fasta \\\n",
    "    -a 0.prep/1.coverage/S${i}.metabat.txt \\\n",
    "    -o 1.binning/1.metabat.S${i}/S${i}.metabat\n",
    "done \n",
    "\n",
    "# MaxBin\n",
    "for i in {1..9}; do\n",
    "    run_MaxBin.pl -thread 10 \\\n",
    "    -contig ../../1.assembly.m1000/S${i}.assembly.m1000.fasta \\\n",
    "    -abund 0.prep/1.coverage/S${i}.maxbin.txt \\\n",
    "    -out 1.binning/1.maxbin.S${i}/S${i}.maxbin \n",
    "done\n",
    "\n",
    "# CONCOCT\n",
    "for i in {1..9}; do\n",
    "    concoct \\\n",
    "    --composition_file 0.prep/2.concoct_prep/S${i}.10k.fa \\\n",
    "    --coverage_file 0.prep/2.concoct_prep/S${i}.10k.txt \\\n",
    "    -b 1.binning/1.concoct.S${i}\n",
    "    # Cluster the fragments back into their original form\n",
    "    merge_cutup_clustering.py \\\n",
    "    1.binning/1.concoct.S${i}/clustering_gt1000.csv \\\n",
    "    > 1.binning/1.concoct.S${i}/clustering_merged.csv\n",
    "    # Create the bins\n",
    "    mkdir 1.binning/1.concoct.S${i}/bin_files/\n",
    "    extract_fasta_bins.py \\\n",
    "    ../../1.assembly.m1000/S${i}.assembly.m1000.fasta \\\n",
    "    1.binning/1.concoct.S${i}/clustering_merged.csv \\\n",
    "    --output_path 1.binning/1.concoct.S${i}/bin_files/\n",
    "done"
   ]
  },
  {
   "cell_type": "markdown",
   "metadata": {},
   "source": [
    "Collate bin files"
   ]
  },
  {
   "cell_type": "code",
   "execution_count": null,
   "metadata": {
    "vscode": {
     "languageId": "shellscript"
    }
   },
   "outputs": [],
   "source": [
    "cd /workdir/DNA/2.prokaryote_mags/1.initial_binning/1.binning\n",
    "\n",
    "for i in {1..9}; do\n",
    "    mkdir 2.bin_files.S${i}/\n",
    "    # metabat\n",
    "    cd 1.metabat.S${i}/\n",
    "    for x in `ls *.fa`; do o=\"${x/fa/fna}\"; cp ${x} ../2.bin_files.S${i}/${o}; done\n",
    "    # maxbin\n",
    "    cd ../1.maxbin.S${i}/\n",
    "    for x in `ls *.fasta`; do o=\"${x/fasta/fna}\"; cp ${x} ../2.bin_files.S${i}/${o}; done\n",
    "    # concoct\n",
    "    cd ../1.concoct.S${i}/bin_files/\n",
    "    for x in `ls *.fa`; do o=\"${x/fa/fna}\"; cp ${x} ../../2.bin_files.S${i}/S${i}.concoct.${o}; done\n",
    "done"
   ]
  },
  {
   "cell_type": "markdown",
   "metadata": {},
   "source": [
    "#### Dereplicate within assemblies via DAS_Tool\n",
    "\n"
   ]
  },
  {
   "cell_type": "markdown",
   "metadata": {},
   "source": [
    "Prep metadata files for DAS_Tool"
   ]
  },
  {
   "cell_type": "code",
   "execution_count": null,
   "metadata": {
    "vscode": {
     "languageId": "shellscript"
    }
   },
   "outputs": [],
   "source": [
    "cd /workdir/DNA/2.prokaryote_mags\n",
    "mkdir -p 2.bin_dereplication_DAS_Tool/0.prep\n",
    "\n",
    "for i in {1..9}; do\n",
    "    for x in metabat maxbin concoct; do\n",
    "        grep \">\" 1.initial_binning/1.binning/2.bin_files.S${i}/*${x}* | sed 's/.fna:>/\\t/g' | cut -f2 -d '/' | awk 'OFS=\"\\t\" {print $2,$1}' \\\n",
    "            > 2.bin_dereplication_DAS_Tool/0.prep/dastool_metadata.S${i}.${x}.txt\n",
    "    done\n",
    "done\n"
   ]
  },
  {
   "cell_type": "markdown",
   "metadata": {},
   "source": [
    "Run DAS_Tool on bins from each assembly"
   ]
  },
  {
   "cell_type": "code",
   "execution_count": null,
   "metadata": {
    "vscode": {
     "languageId": "shellscript"
    }
   },
   "outputs": [],
   "source": [
    "cd /workdir/DNA/2.prokaryote_mags/2.bin_dereplication_DAS_Tool\n",
    "\n",
    "for i in {1..9}; do\n",
    "    mkdir -p dastool.S${i}\n",
    "    DAS_Tool -t 36 --write_bins 1 --search_engine blast -l metabat,maxbin,concoct \\\n",
    "    -i 0.prep/dastool_metadata.S${i}.metabat.txt,0.prep/dastool_metadata.S${i}.maxbin.txt,0.prep/dastool_metadata.S${i}.concoct.txt \\\n",
    "    -c ../../1.assembly.m1000/S${i}.assembly.m1000.fasta \\\n",
    "    -o ${i}\n",
    "done"
   ]
  },
  {
   "cell_type": "markdown",
   "metadata": {},
   "source": [
    "Compile DASTool_bins from all assemblies for downstream use"
   ]
  },
  {
   "cell_type": "code",
   "execution_count": null,
   "metadata": {
    "vscode": {
     "languageId": "shellscript"
    }
   },
   "outputs": [],
   "source": [
    "cd /workdir/DNA/2.prokaryote_mags/2.bin_dereplication_DAS_Tool\n",
    "mkdir -p DASTool_All_bins\n",
    "\n",
    "for i in {1..9}; do\n",
    "    cp S${i}_DASTool_bins/*.fna DASTool_All_bins/\n",
    "done"
   ]
  },
  {
   "cell_type": "markdown",
   "metadata": {},
   "source": [
    "#### Prokaryote MAG quality and completeness via CheckM"
   ]
  },
  {
   "cell_type": "code",
   "execution_count": null,
   "metadata": {
    "vscode": {
     "languageId": "shellscript"
    }
   },
   "outputs": [],
   "source": [
    "cd /workdir/DNA/2.prokaryote_mags\n",
    "mkdir -p 3.checkm\n",
    "\n",
    "checkm lineage_wf -t 10 --pplacer_threads 10 -x fna \\\n",
    "--tab_table -f 3.checkm/genomes_checkm.txt \\\n",
    "2.bin_dereplication_DAS_Tool/DASTool_All_bins \\\n",
    "3.checkm"
   ]
  },
  {
   "cell_type": "markdown",
   "metadata": {},
   "source": [
    "#### Prokaryote MAG taxonomy prediction\n",
    "\n",
    "Assign taxonomy to prokaryote MAGs via gtdb-tk"
   ]
  },
  {
   "cell_type": "code",
   "execution_count": null,
   "metadata": {
    "vscode": {
     "languageId": "shellscript"
    }
   },
   "outputs": [],
   "source": [
    "cd /workdir/DNA/2.prokaryote_mags\n",
    "mkdir -p 3.taxonomy\n",
    "\n",
    "gtdbtk classify_wf -x fa --cpus 8 \\\n",
    "--genome_dir 2.bin_dereplication_DAS_Tool/DASTool_All_bins \\\n",
    "--out_dir 3.taxonomy \\\n",
    "--mash_db 3.taxonomy/mash_database \n"
   ]
  },
  {
   "cell_type": "markdown",
   "metadata": {},
   "source": [
    "#### Dereplicate across assemblies via dRep\n",
    "\n",
    "For this study, primary and secondary clustering were run at 90% and 98% identity, respectively, and filtering by completeness or contamination was excluded within dRep.\n",
    "\n",
    "Note: checkM results summary was generated prior to running dRep, with the columns: \"genome,completeness,contamination\""
   ]
  },
  {
   "cell_type": "code",
   "execution_count": null,
   "metadata": {
    "vscode": {
     "languageId": "shellscript"
    }
   },
   "outputs": [],
   "source": [
    "cd /workdir/DNA/2.prokaryote_mags\n",
    "\n",
    "# Generate checkM summary file\n",
    "mkdir -p 4.bin_dereplication_dRep/0.prep\n",
    "echo -e \"genome,completeness,contamination\" > 4.bin_dereplication_dRep/0.prep/genomes_checkm_for_drep.csv\n",
    "tail -n +2 3.checkm/checkm_bin_summary.txt | cut -f1,12-13 | sed -i 's/\\t/,/g' >> 4.bin_dereplication_dRep/0.prep/genomes_checkm_for_drep.csv\n",
    "\n",
    "# Set up for dRep\n",
    "mkdir -p /workdir/DNA/2.prokaryote_mags/4.bin_dereplication_dRep/1.dRep_out\n",
    "cd /workdir/DNA/2.prokaryote_mags/2.bin_dereplication_DAS_Tool/DASTool_All_bins\n",
    "\n",
    "# Run dRep with secondary clustering set to 98% identity\n",
    "dRep dereplicate ../../4.bin_dereplication_dRep/1.dRep_out -g *.fasta \\\n",
    "-p 12 --completeness 0 --contamination 100 --length 50000  -pa 0.90 -sa 0.98 --S_algorithm gANI \\\n",
    "--genomeInfo ../../4.bin_dereplication_dRep/0.prep/genomes_checkm_for_drep.csv\n"
   ]
  },
  {
   "cell_type": "markdown",
   "metadata": {},
   "source": [
    "#### Prokaryote MAG gene prediction and annotation via DRAM\n",
    "\n",
    "Presented as a loop here, but makes sense to run in parallel subset batches of the MAGs (e.g. via slurm array) if you have the resources available."
   ]
  },
  {
   "cell_type": "code",
   "execution_count": null,
   "metadata": {
    "vscode": {
     "languageId": "shellscript"
    }
   },
   "outputs": [],
   "source": [
    "cd /workdir/DNA/2.prokaryote_mags\n",
    "mkdir -p 5.gene_annotation/1.dram_annotate_dRep_mags/individual_mags/\n",
    "\n",
    "for mag_file in 4.bin_dereplication_dRep/1.dRep_out/dereplicated_genomes/*.fa; do\n",
    "    mag_ID=$(basename ${mag_file} .fa)\n",
    "    DRAM.py annotate --threads 24 \\\n",
    "    -i ${mag_file} \\\n",
    "    -o 5.gene_annotation/1.dram_annotate_dRep_mags/individual_mags/${mag_ID}\n",
    "done\n",
    "\n",
    "# compile annotations, trna, and rrna results\n",
    "scripts/general/compile_dram_annotations.py \\\n",
    "-i 5.gene_annotation/1.dram_annotate_dRep_mags/individual_mags/ \\\n",
    "-o 5.gene_annotation/1.dram_annotate_dRep_mags/collated_dram_"
   ]
  },
  {
   "cell_type": "markdown",
   "metadata": {},
   "source": [
    "***"
   ]
  }
 ],
 "metadata": {
  "language_info": {
   "name": "python"
  }
 },
 "nbformat": 4,
 "nbformat_minor": 2
}
