{
 "cells": [
  {
   "cell_type": "markdown",
   "metadata": {},
   "source": [
    "# 3.8 Gene GC and protein AA proportions and pI"
   ]
  },
  {
   "cell_type": "markdown",
   "metadata": {},
   "source": [
    "## Software and versions used in this study\n",
    "\n",
    "- pepstats: EMBOSS v6.6.0\n",
    "\n",
    "## Additional custom scripts\n",
    "\n",
    "Note: custom scripts have been tested in python v3.11.6 and R v4.2.1 and may not be stable in other versions.\n",
    "\n",
    "- scripts/general/extract_aa_and_gc_proportions.py\n",
    "- scripts/general/summarise_pepstats_pI.py\n",
    "\n",
    "*Required python packages: argparse, pandas, numpy, re, os, Bio, itertools*"
   ]
  },
  {
   "cell_type": "markdown",
   "metadata": {},
   "source": [
    "***"
   ]
  },
  {
   "cell_type": "markdown",
   "metadata": {},
   "source": [
    "## Gene GC and protein AA proportions and pI\n",
    "\n",
    "Note: A small dataset of sequences is provided for workflow testing: *data/refseq.Caudoviricetes.n50.prodigal_gv.faa*. Stated runtimes are based on this test set.\n",
    "\n",
    "In the full study, analysed data included Waiwera vOTUs and all high-quality sequences from the IMG/VR database."
   ]
  },
  {
   "cell_type": "markdown",
   "metadata": {},
   "source": [
    "#### Extract AA and GC proportions from prodigal"
   ]
  },
  {
   "cell_type": "code",
   "execution_count": null,
   "metadata": {
    "vscode": {
     "languageId": "shellscript"
    }
   },
   "outputs": [],
   "source": [
    "mkdir -p DNA/3.viruses/11.gene_and_protein_stats\n",
    "\n",
    "scripts/viruses.general/extract_aa_and_gc_proportions.py \\\n",
    "--input_format prodigal \\\n",
    "--protein_sequences data/refseq.Caudoviricetes.n50.prodigal_gv.faa \\\n",
    "--sample_id test_data \\\n",
    "--output_filename DNA/3.viruses/11.gene_and_protein_stats/AA_and_GC.summary_table.tsv\n"
   ]
  },
  {
   "cell_type": "markdown",
   "metadata": {},
   "source": [
    "*n50 test runtime < 10s*"
   ]
  },
  {
   "cell_type": "markdown",
   "metadata": {},
   "source": [
    "#### Protein isoelectric point (pI) via pepstats\n",
    "\n",
    "note: pepstats trims IDs at '|' character, so need to edit these if present"
   ]
  },
  {
   "cell_type": "code",
   "execution_count": null,
   "metadata": {
    "vscode": {
     "languageId": "shellscript"
    }
   },
   "outputs": [],
   "source": [
    "# Replace '|' characters with '__'\n",
    "sed -e 's/|/__/g' data/refseq.Caudoviricetes.n50.prodigal_gv.faa > data/refseq.Caudoviricetes.n50.prodigal_gv.edit.faa"
   ]
  },
  {
   "cell_type": "markdown",
   "metadata": {},
   "source": [
    "#### Run pepstats"
   ]
  },
  {
   "cell_type": "code",
   "execution_count": null,
   "metadata": {
    "vscode": {
     "languageId": "shellscript"
    }
   },
   "outputs": [],
   "source": [
    "pepstats \\\n",
    "\"data/refseq.Caudoviricetes.n50.prodigal_gv.edit.faa\" \\\n",
    "-outfile \"DNA/3.viruses/11.gene_and_protein_stats/pepstats_results.txt\""
   ]
  },
  {
   "cell_type": "markdown",
   "metadata": {},
   "source": [
    "*n50 test runtime < 10s*"
   ]
  },
  {
   "cell_type": "markdown",
   "metadata": {},
   "source": [
    "#### Summarise pepstats pI results"
   ]
  },
  {
   "cell_type": "code",
   "execution_count": null,
   "metadata": {
    "vscode": {
     "languageId": "shellscript"
    }
   },
   "outputs": [],
   "source": [
    "scripts/viruses.general/summarise_pepstats_pI.py \\\n",
    "-i DNA/3.viruses/11.gene_and_protein_stats/pepstats_results.txt \\\n",
    "-s test_data \\\n",
    "-o DNA/3.viruses/11.gene_and_protein_stats/pepstats.summaryTable.tsv\n"
   ]
  },
  {
   "cell_type": "markdown",
   "metadata": {},
   "source": [
    "*n50 test runtime < 10s*"
   ]
  },
  {
   "cell_type": "markdown",
   "metadata": {},
   "source": [
    "***"
   ]
  }
 ],
 "metadata": {
  "language_info": {
   "name": "python"
  }
 },
 "nbformat": 4,
 "nbformat_minor": 2
}
