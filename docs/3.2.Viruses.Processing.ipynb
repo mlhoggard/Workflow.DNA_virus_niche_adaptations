{
 "cells": [
  {
   "cell_type": "markdown",
   "metadata": {},
   "source": [
    "# 3.2 Viruses - data processing and vOTU clustering"
   ]
  },
  {
   "cell_type": "markdown",
   "metadata": {},
   "source": [
    "## Software and versions used in this study\n",
    "\n",
    "- seqmagick v0.7.0\n",
    "- CheckV v0.7.0\n",
    "- BBMap v39.01\n",
    "- Cluster_genomes_5.1.pl\n",
    "\n",
    "## Additional custom scripts\n",
    "\n",
    "Note: custom scripts have been tested in python v3.11.6 and R v4.2.1 and may not be stable in other versions.\n",
    "\n",
    "- scripts/viruses.identification/summarise_viral_contigs.py\n",
    "- scripts/viruses.identification/virome_per_sample_derep.py\n",
    "- scripts/viruses.identification/checkv_filter_contigs.py\n",
    "- scripts/viruses.identification/filter_viruses_by_completeness.py\n",
    "\n",
    "*Required python packages: argparse, pandas, numpy, os, re, Bio.SeqIO.FastaIO*"
   ]
  },
  {
   "cell_type": "markdown",
   "metadata": {},
   "source": [
    "***"
   ]
  },
  {
   "cell_type": "markdown",
   "metadata": {},
   "source": [
    "## Dereplication, quality filtering, and vOTU clustering"
   ]
  },
  {
   "cell_type": "markdown",
   "metadata": {},
   "source": [
    "#### Generate summary table"
   ]
  },
  {
   "cell_type": "code",
   "execution_count": null,
   "metadata": {
    "vscode": {
     "languageId": "shellscript"
    }
   },
   "outputs": [],
   "source": [
    "for i in {1..9}; do\n",
    "    scripts/viruses.identification/summarise_viral_contigs.py \\\n",
    "    --virsorter2 DNA/3.viruses/1.identification/1.virsorter2/S${i}/S${i}-final-viral-score_filt_0.9.tsv \\\n",
    "    --vibrant DNA/3.viruses/1.identification/1.vibrant/VIBRANT_S${i}.m1000/VIBRANT_results_S${i}.m1000/VIBRANT_summary_results_S${i}.m1000.tsv \\\n",
    "    --deepvirfinder DNA/3.viruses/1.identification/1.deepvirfinder/S${i}.dvfpred_filtered.txt \\\n",
    "    --out_prefix DNA/3.viruses/1.identification/2.summary_tables/S${i}.viral_contigs.summary_table\n",
    "done"
   ]
  },
  {
   "cell_type": "markdown",
   "metadata": {},
   "source": [
    "#### Dereplication per assembly\n",
    "\n"
   ]
  },
  {
   "cell_type": "markdown",
   "metadata": {},
   "source": [
    "Dereplicate virus contigs identified by multiple tools"
   ]
  },
  {
   "cell_type": "code",
   "execution_count": null,
   "metadata": {
    "vscode": {
     "languageId": "shellscript"
    }
   },
   "outputs": [],
   "source": [
    "for i in {1..9}; do\n",
    "    scripts/viruses.identification/virome_per_sample_derep.py \\\n",
    "    --assembly_fasta DNA/1.assembly.m1000/S${i}.assembly.m1000.fasta \\\n",
    "    --summary_table DNA/3.viruses/1.identification/2.summary_tables/S${i}.viral_contigs.summary_table_VIRUSES.txt \\\n",
    "    --vibrant DNA/3.viruses/1.identification/1.vibrant/VIBRANT_S${i}.assembly.m1000/VIBRANT_phages_S${i}.assembly.m1000/S${i}.assembly.m1000.phages_combined.fna \\\n",
    "    --virsorter2 DNA/3.viruses/1.identification/1.virsorter2/S${i}/S${i}-final-viral-combined.fa \\\n",
    "    --output DNA/3.viruses/2.perSample_derep/S${i}.viral_contigs.fna\n",
    "done"
   ]
  },
  {
   "cell_type": "markdown",
   "metadata": {},
   "source": [
    "#### Filter contigs < 3000 bp"
   ]
  },
  {
   "cell_type": "code",
   "execution_count": null,
   "metadata": {
    "vscode": {
     "languageId": "shellscript"
    }
   },
   "outputs": [],
   "source": [
    "for i in {1..9}; do\n",
    "    seqmagick convert --min-length 3000 \\\n",
    "    DNA/3.viruses/2.perSample_derep/S${i}.viral_contigs.fna \\\n",
    "    DNA/3.viruses/2.perSample_derep/S${i}.viral_contigs.filt.fna\n",
    "done"
   ]
  },
  {
   "cell_type": "markdown",
   "metadata": {},
   "source": [
    "#### Quality assessment via CheckV"
   ]
  },
  {
   "cell_type": "code",
   "execution_count": null,
   "metadata": {
    "vscode": {
     "languageId": "shellscript"
    }
   },
   "outputs": [],
   "source": [
    "for i in {1..9}; do\n",
    "    checkv end_to_end DNA/3.viruses/2.perSample_derep/S${i}.viral_contigs.filt.fna DNA/3.viruses/3.perSample_checkv/S${i} -t 16 --quiet\n",
    "    # Concatenate output fasta files\n",
    "    cat DNA/3.viruses/3.perSample_checkv/S${i}/viruses.fna DNA/3.viruses/3.perSample_checkv/S${i}/proviruses.fna > DNA/3.viruses/3.perSample_checkv/S${i}/viral_contigs.fna \n",
    "done"
   ]
  },
  {
   "cell_type": "markdown",
   "metadata": {},
   "source": [
    "#### Filter virus contigs based on CheckV results"
   ]
  },
  {
   "cell_type": "markdown",
   "metadata": {},
   "source": [
    "Filtering to retain contigs that meet the following criteria: ((viral_genes>0) OR (viral_genes=0 AND host_genes=0))"
   ]
  },
  {
   "cell_type": "code",
   "execution_count": null,
   "metadata": {
    "vscode": {
     "languageId": "shellscript"
    }
   },
   "outputs": [],
   "source": [
    "for i in {1..9}; do\n",
    "    scripts/viruses.identification/checkv_filter_contigs.py \\\n",
    "    --checkv_dir_input DNA/3.viruses/3.perSample_checkv/S${i}/ \\\n",
    "    --output_prefix DNA/3.viruses/3.perSample_checkv/S${i}/viral_contigs\n",
    "done"
   ]
  },
  {
   "cell_type": "markdown",
   "metadata": {},
   "source": [
    "#### Cluster vOTUs"
   ]
  },
  {
   "cell_type": "markdown",
   "metadata": {},
   "source": [
    "Concatenate virus contigs from individual assemblies"
   ]
  },
  {
   "cell_type": "code",
   "execution_count": null,
   "metadata": {
    "vscode": {
     "languageId": "shellscript"
    }
   },
   "outputs": [],
   "source": [
    "cat DNA/3.viruses/3.perSample_checkv/S*/viral_contigs_filtered.fna > DNA/3.viruses/4.cluster_vOTUs/viral_contigs_allSamples.fna"
   ]
  },
  {
   "cell_type": "markdown",
   "metadata": {},
   "source": [
    "Sort by sequence size (sortbyname.sh from BBMap tools)"
   ]
  },
  {
   "cell_type": "code",
   "execution_count": null,
   "metadata": {
    "vscode": {
     "languageId": "shellscript"
    }
   },
   "outputs": [],
   "source": [
    "sortbyname.sh in=DNA/3.viruses/4.cluster_vOTUs/viral_contigs_allSamples.fna \\\n",
    "out=DNA/3.viruses/4.cluster_vOTUs/viral_contigs_allSamples.sorted.fna length descending"
   ]
  },
  {
   "cell_type": "markdown",
   "metadata": {},
   "source": [
    "Dereplicate virus contigs across assemblies into virus populations (viral operational taxonomic units; vOTUs). \n",
    "\n",
    "*Note: The developers of Cluster_genomes_5.1.pl have since recommended using checkv's anicalc and aniclust for this step instead.*"
   ]
  },
  {
   "cell_type": "code",
   "execution_count": null,
   "metadata": {
    "vscode": {
     "languageId": "shellscript"
    }
   },
   "outputs": [],
   "source": [
    "Cluster_genomes_5.1.pl -t 20 -c 85 -i 95 \\\n",
    "-f DNA/3.viruses/4.cluster_vOTUs/viral_contigs_allSamples.sorted.fna \\\n",
    "-d /path/to/Software/mummer_v4.0.0/bin/"
   ]
  },
  {
   "cell_type": "markdown",
   "metadata": {},
   "source": [
    "Modify derep contig headers to be vOTU_n via python"
   ]
  },
  {
   "cell_type": "code",
   "execution_count": null,
   "metadata": {
    "vscode": {
     "languageId": "shellscript"
    }
   },
   "outputs": [],
   "source": [
    "python3\n",
    "import os\n",
    "import pandas as pd\n",
    "import numpy as np\n",
    "import re\n",
    "from Bio.SeqIO.FastaIO import SimpleFastaParser\n",
    "\n",
    "i=1\n",
    "with open('DNA/3.viruses/4.cluster_vOTUs/viral_contigs_allSamples.sorted_95-85.fna', 'r') as read_fasta:\n",
    "    with open('DNA/3.viruses/4.cluster_vOTUs/vOTUs.fna', 'w') as write_fasta:\n",
    "        with open ('DNA/3.viruses/4.cluster_vOTUs/vOTUs_lookupTable.txt', 'w') as write_table:\n",
    "            write_table.write(\"vOTU\" + \"\\t\" + \"cluster_rep_contigID\" + \"\\n\")\n",
    "            for name, seq in SimpleFastaParser(read_fasta):\n",
    "                write_table.write(\"vOTU_\" + str(i) + \"\\t\" + name + \"\\n\")\n",
    "                write_fasta.write(\">\" + \"vOTU_\" + str(i) + \"\\n\" + str(seq) + \"\\n\")\n",
    "                i += 1\n",
    "\n",
    "quit()"
   ]
  },
  {
   "cell_type": "markdown",
   "metadata": {},
   "source": [
    "#### Run CheckV on clustered vOTUs"
   ]
  },
  {
   "cell_type": "code",
   "execution_count": null,
   "metadata": {
    "vscode": {
     "languageId": "shellscript"
    }
   },
   "outputs": [],
   "source": [
    "checkv end_to_end DNA/3.viruses/4.cluster_vOTUs/vOTUs.fna DNA/3.viruses/5.checkv_vOTUs -t 16 --quiet\n",
    "# Concatenate output fasta files\n",
    "cat DNA/3.viruses/5.checkv_vOTUs/viruses.fna  DNA/3.viruses/5.checkv_vOTUs/proviruses.fna >  DNA/3.viruses/5.checkv_vOTUs/vOTUs.fna \n",
    "# modify checkv-exicised prophage contig headers\n",
    "sed -i -e \"s/\\s/__excised_start_/g\" -e \"s/-/_end_/g\" -e \"s/\\//_len_/g\" -e \"s/|/_/\" -e \"s/|//g\" DNA/3.viruses/5.checkv_vOTUs/vOTUs.fna"
   ]
  },
  {
   "cell_type": "markdown",
   "metadata": {},
   "source": [
    "### Filter by predicted completeness threshold (50%)"
   ]
  },
  {
   "cell_type": "code",
   "execution_count": null,
   "metadata": {
    "vscode": {
     "languageId": "shellscript"
    }
   },
   "outputs": [],
   "source": [
    "scripts/viruses.identification/filter_viruses_by_completeness.py \\\n",
    "-i DNA/3.viruses/5.checkv_vOTUs/vOTUs.fna \\\n",
    "-c DNA/3.viruses/5.checkv_vOTUs/quality_summary.tsv \\\n",
    "-t 50 \\\n",
    "-o DNA/3.viruses/5.checkv_vOTUs/vOTUs.completeness_50.fna"
   ]
  },
  {
   "cell_type": "markdown",
   "metadata": {},
   "source": [
    "***"
   ]
  }
 ],
 "metadata": {
  "language_info": {
   "name": "python"
  }
 },
 "nbformat": 4,
 "nbformat_minor": 2
}
