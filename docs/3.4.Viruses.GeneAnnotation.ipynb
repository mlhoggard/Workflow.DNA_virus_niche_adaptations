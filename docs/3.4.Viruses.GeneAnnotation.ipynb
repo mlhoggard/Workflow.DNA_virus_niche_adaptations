{
 "cells": [
  {
   "cell_type": "markdown",
   "metadata": {},
   "source": [
    "# 3.4 Viruses - Gene prediction and annotation"
   ]
  },
  {
   "cell_type": "markdown",
   "metadata": {},
   "source": [
    "## Software and versions used in this study\n",
    "\n",
    "- DRAM v1.4.6\n",
    "- prodigal-gv v2.9.0\n",
    "\n",
    "## Additional custom scripts\n",
    "\n",
    "Note: custom scripts have been tested in python v3.11.6 and R v4.2.1 and may not be stable in other versions.\n",
    "\n",
    "- scripts/general/compile_dram_annotations.py\n",
    "- scripts/general/dramv_compile_summary_table.py\n",
    "\n",
    "*Required python packages: argparse, pandas, numpy, os, re, glob, Bio.SeqIO.FastaIO*"
   ]
  },
  {
   "cell_type": "markdown",
   "metadata": {},
   "source": [
    "***"
   ]
  },
  {
   "cell_type": "markdown",
   "metadata": {},
   "source": [
    "## Virus gene prediction and annotation"
   ]
  },
  {
   "cell_type": "markdown",
   "metadata": {},
   "source": [
    "#### DRAM-v prep: Split fna file (via BBMap's partition.sh)\n",
    "\n",
    "To speed up a run with a large number of viral contigs, you can: \n",
    "\n",
    "- first split the vOTUs into equal parts\n",
    "- run each subset through VirSorter2 (DRAMv prep) and DRAMv annotate (i.e. parallel slurm array)\n",
    "- compile results (*compile_dram_annotaions.py*)\n",
    "- then run through DRAM distill."
   ]
  },
  {
   "cell_type": "code",
   "execution_count": null,
   "metadata": {
    "vscode": {
     "languageId": "shellscript"
    }
   },
   "outputs": [],
   "source": [
    "mkdir DNA/3.viruses/7.gene_annotation\n",
    "\n",
    "partition.sh \\\n",
    "in=DNA/3.viruses/5.checkv_vOTUs/vOTUs.fna \\\n",
    "out=DNA/3.viruses/7.gene_annotation/vsort2_prepfiles/split_input_fasta/vOTUs_subset_%.fna ways=100\n"
   ]
  },
  {
   "cell_type": "markdown",
   "metadata": {},
   "source": [
    "#### DRAM-v Prep: VirSorter2\n",
    "\n",
    "Re-run vOTU subsets through VirSorter2 with filtering switched off to generate required inputs for DRAMv \n",
    "\n",
    "Note: example below via slurm array w/ SLURM_ARRAY_TASK_ID and SLURM_JOB_ID variables. You can simplify this if running a single smaller set of vOTUs."
   ]
  },
  {
   "cell_type": "code",
   "execution_count": null,
   "metadata": {
    "vscode": {
     "languageId": "shellscript"
    }
   },
   "outputs": [],
   "source": [
    "virsorter run -j 24 \\\n",
    "--seqname-suffix-off --viral-gene-enrich-off --provirus-off --prep-for-dramv \\\n",
    "-i DNA/3.viruses/7.gene_annotation/vsort2_prepfiles/split_input_fasta/vOTUs_subset_${SLURM_ARRAY_TASK_ID}.fna \\\n",
    "-d Databases/virsorter2/ \\\n",
    "--min-score 0 --include-groups dsDNAphage,NCLDV,RNA,ssDNA,lavidaviridae \\\n",
    "-l vOTUs_subset_${SLURM_ARRAY_TASK_ID} \\\n",
    "-w DNA/3.viruses/7.gene_annotation/vsort2_prepfiles/vOTUs_subsets/vOTUs_subset_${SLURM_ARRAY_TASK_ID} \\\n",
    "--tmpdir ${SLURM_JOB_ID}.tmp \\\n",
    "--rm-tmpdir \\\n",
    "all \\\n",
    "--config LOCAL_SCRATCH=${TMPDIR:-/tmp}\n"
   ]
  },
  {
   "cell_type": "markdown",
   "metadata": {},
   "source": [
    "#### DRAM-v: annotate\n",
    "\n",
    "Note: \n",
    "\n",
    "If you wish to run DRAMv in `--low_mem_mode` to speed up the run, `--low_mem_mode` currently excludes vogdb, but this is required for DRAM-v's *distill*. A rough work around is to temporarily edit DRAMv to also use vogdb with `--low_mem_mode`. \n",
    "\n",
    "The relevant script is *mag_annotator/database_handler.py*\n",
    "\n",
    "Make the following edits:\n",
    "\n",
    "- comment out the line: `dbs_to_use = [i for i in dbs_to_use if i not in (\"uniref\", \"kegg\", \"vogdb\")]`\n",
    "- add line: `dbs_to_use = [i for i in dbs_to_use if i not in (\"uniref\", \"kegg\")]`\n"
   ]
  },
  {
   "cell_type": "code",
   "execution_count": null,
   "metadata": {
    "vscode": {
     "languageId": "shellscript"
    }
   },
   "outputs": [],
   "source": [
    "mkdir -p DNA/3.viruses/7.gene_annotation/dramv_annotation\n",
    "\n",
    "DRAM-v.py annotate --threads 32 --min_contig_size 1000 \\\n",
    "-i DNA/3.viruses/7.gene_annotation/vsort2_prepfiles/vOTUs_subsets/vOTUs_subset_${SLURM_ARRAY_TASK_ID}/vOTUs_subset_${SLURM_ARRAY_TASK_ID}-for-dramv/final-viral-combined-for-dramv.fa \\\n",
    "-v DNA/3.viruses/7.gene_annotation/vsort2_prepfiles/vOTUs_subsets/vOTUs_subset_${SLURM_ARRAY_TASK_ID}/vOTUs_subset_${SLURM_ARRAY_TASK_ID}-for-dramv/viral-affi-contigs-for-dramv.tab \\\n",
    "-o DNA/3.viruses/7.gene_annotation/dramv_annotation/dramv_annotation_subset_${SLURM_ARRAY_TASK_ID}"
   ]
  },
  {
   "cell_type": "markdown",
   "metadata": {},
   "source": [
    "#### DRAM-v: Compile DRAM-v annotation subsets"
   ]
  },
  {
   "cell_type": "code",
   "execution_count": null,
   "metadata": {
    "vscode": {
     "languageId": "shellscript"
    }
   },
   "outputs": [],
   "source": [
    "scripts/general/compile_dram_annotations.py \\\n",
    "-i DNA/3.viruses/7.gene_annotation/dramv_annotation \\\n",
    "-o DNA/3.viruses/7.gene_annotation/dramv_annotation/collated_dramv_"
   ]
  },
  {
   "cell_type": "markdown",
   "metadata": {},
   "source": [
    "#### DRAM-v: distill\n",
    "\n",
    "Note: the script below includes the following options: \n",
    "\n",
    "- `--remove_transposons` (\"Do not consider genes on scaffolds with transposons as potential AMGs\")\n",
    "- `--remove_fs` (\"Do not consider genes near ends of scaffolds as potential AMGs\")\n",
    "\n",
    "Note re: AMG prediction: \"By default a gene is considered a potential AMG if it has an M flag, no V flag, no A flag and an auxiliary score of 3 or lower.\" (https://github.com/WrightonLabCSU/DRAM/wiki)"
   ]
  },
  {
   "cell_type": "code",
   "execution_count": null,
   "metadata": {
    "vscode": {
     "languageId": "shellscript"
    }
   },
   "outputs": [],
   "source": [
    "DRAM-v.py distill --remove_transposons --remove_fs \\\n",
    "-i DNA/3.viruses/7.gene_annotation/dramv_annotation/collated_dramv_annotations.tsv \\\n",
    "-o DNA/3.viruses/7.gene_annotation/dramv_distillation"
   ]
  },
  {
   "cell_type": "markdown",
   "metadata": {},
   "source": [
    "#### DRAM-v: compile results\n",
    "\n",
    "This script compiles DRAMv annotations, tRNA, rRNA, and AMG (distill) outputs, together with gene coords and contig (genome) lengths into one table for downstream use\n",
    "\n",
    "Note: this script also trims \"-cat_n\" from contig/genome IDs (introduced by VirSorter2 during the prep-for-DRAMv step) to keep IDs consistent with other analyses.\n"
   ]
  },
  {
   "cell_type": "code",
   "execution_count": null,
   "metadata": {
    "vscode": {
     "languageId": "shellscript"
    }
   },
   "outputs": [],
   "source": [
    "scripts/general/dramv_compile_summary_table.py \\\n",
    "-a DNA/3.viruses/7.gene_annotation/dramv_annotation/collated_dramv_annotations.tsv \\\n",
    "-d DNA/3.viruses/7.gene_annotation/dramv_distillation/amg_summary.tsv \\\n",
    "-t DNA/3.viruses/7.gene_annotation/dramv_annotation/collated_dramv_trnas.tsv \\\n",
    "-r DNA/3.viruses/7.gene_annotation/dramv_annotation/collated_dramv_rrnas.tsv \\\n",
    "-f DNA/3.viruses/5.checkv_vOTUs/vOTUs.fna \\\n",
    "-o DNA/3.viruses/7.gene_annotation/DRAMv.summary_table.tsv"
   ]
  },
  {
   "cell_type": "markdown",
   "metadata": {},
   "source": [
    "***"
   ]
  }
 ],
 "metadata": {
  "language_info": {
   "name": "python"
  }
 },
 "nbformat": 4,
 "nbformat_minor": 2
}
