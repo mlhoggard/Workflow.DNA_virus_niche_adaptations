{
 "cells": [
  {
   "cell_type": "markdown",
   "metadata": {},
   "source": [
    "# 1. Sequence read processing and metagenome assembly"
   ]
  },
  {
   "cell_type": "markdown",
   "metadata": {},
   "source": [
    "## Software and versions used in this study\n",
    "\n",
    "- Trimmomatic v0.38 / v0.39\n",
    "- SortMeRNA v4.3.6 (database: smr_v4.3_fast_db)\n",
    "- metaSPAdes v3.11.1\n",
    "- seqmagick v0.7.0"
   ]
  },
  {
   "cell_type": "markdown",
   "metadata": {},
   "source": [
    "***"
   ]
  },
  {
   "cell_type": "markdown",
   "metadata": {},
   "source": [
    "## Quality trim and filter sequencing reads\n",
    "\n",
    "Note:\n",
    "\n",
    "- DNA sequencing reads in this study generated via Illumina HiSeq paired end 2x250 bp sequencing\n",
    "- RNA sequencing reads in this study generated via Illumina HiSeq paired end 2x125 bp sequencing"
   ]
  },
  {
   "cell_type": "code",
   "execution_count": null,
   "metadata": {
    "vscode": {
     "languageId": "shellscript"
    }
   },
   "outputs": [],
   "source": [
    "# Make relevant adapter file if not already created (n.b. truncated adapter included here)\n",
    "if [ ! -f iua.fna ]; then\n",
    "    echo \">FastQC_adapter\" > iua.fna\n",
    "    echo \"AGATCGGAAGAG\" >> iua.fna\n",
    "fi"
   ]
  },
  {
   "cell_type": "markdown",
   "metadata": {},
   "source": [
    "#### DNA sequencing reads"
   ]
  },
  {
   "cell_type": "markdown",
   "metadata": {},
   "source": [
    "Trim and filter with Trimmomatic"
   ]
  },
  {
   "cell_type": "code",
   "execution_count": null,
   "metadata": {
    "vscode": {
     "languageId": "shellscript"
    }
   },
   "outputs": [],
   "source": [
    "for i in {1..9}; do\n",
    "    trimmomatic PE -threads 30 -phred33 -quiet \\\n",
    "    DNA/0.raw_data/S${i}_R1.fastq.gz DNA/0.raw_data/S${i}_R2.fastq.gz \\\n",
    "    DNA/1.Qual_filtered_trimmomatic/S${i}_R1.fastq DNA/1.Qual_filtered_trimmomatic/S${i}_R1.single1.fastq \\\n",
    "    DNA/1.Qual_filtered_trimmomatic/S${i}_R2.fastq DNA/1.Qual_filtered_trimmomatic/S${i}_R2.single2.fastq \\\n",
    "    ILLUMINACLIP:iua.fna:1:25:7 CROP:240 SLIDINGWINDOW:4:30 MINLEN:80\n",
    "    # Tidy up singleton reads\n",
    "    cat DNA/1.Qual_filtered_trimmomatic/S${i}_R1.single1.fastq DNA/1.Qual_filtered_trimmomatic/S${i}_R2.single2.fastq > DNA/1.Qual_filtered_trimmomatic/S${i}_single.fastq\n",
    "    rm DNA/1.Qual_filtered_trimmomatic/*single1.fastq DNA/1.Qual_filtered_trimmomatic/*single2.fastq\n",
    "done\n"
   ]
  },
  {
   "cell_type": "markdown",
   "metadata": {},
   "source": [
    "#### RNA sequencing reads"
   ]
  },
  {
   "cell_type": "markdown",
   "metadata": {},
   "source": [
    "Trim and filter with Trimmomatic"
   ]
  },
  {
   "cell_type": "code",
   "execution_count": null,
   "metadata": {
    "vscode": {
     "languageId": "shellscript"
    }
   },
   "outputs": [],
   "source": [
    "for i in {1..9}; do\n",
    "    trimmomatic PE -threads 10 -phred33 -quiet \\\n",
    "    RNA/0.raw_data/S${i}_R1.fastq.gz RNA/0.raw_data/S${i}_R2.fastq.gz \\\n",
    "    RNA/1.Qual_filtered_trimmomatic/S${i}_R1.fastq RNA/1.Qual_filtered_trimmomatic/S${i}_R1.single1.fastq \\\n",
    "    RNA/1.Qual_filtered_trimmomatic/S${i}_R2.fastq RNA/1.Qual_filtered_trimmomatic/S${i}_R2.single2.fastq \\\n",
    "    ILLUMINACLIP:iua.fna:1:25:7 CROP:115 SLIDINGWINDOW:4:30 MINLEN:50\n",
    "    # Tidy up singleton reads\n",
    "    cat RNA/1.Qual_filtered_trimmomatic/S${i}_R1.single1.fastq RNA/1.Qual_filtered_trimmomatic/S${i}_R2.single2.fastq > RNA/1.Qual_filtered_trimmomatic/S${i}_single.fastq\n",
    "    rm RNA/1.Qual_filtered_trimmomatic/*single1.fastq RNA/1.Qual_filtered_trimmomatic/*single2.fastq\n",
    "done"
   ]
  },
  {
   "cell_type": "markdown",
   "metadata": {},
   "source": [
    "Filter residual rRNA reads with SortMeRNA\n",
    "\n"
   ]
  },
  {
   "cell_type": "code",
   "execution_count": null,
   "metadata": {
    "vscode": {
     "languageId": "shellscript"
    }
   },
   "outputs": [],
   "source": [
    "# paired files\n",
    "for i in {1..9}; do\n",
    "    ${sortmerna_path}/bin/sortmerna --num_alignments 1 --fastx --paired_in --out2 \\\n",
    "    --reads RNA/1.Qual_filtered_trimmomatic/S${i}_R1.fastq \\\n",
    "    --reads RNA/1.Qual_filtered_trimmomatic/S${i}_R2.fastq \\\n",
    "    --ref ${sortmerna_path}/databases_v4.3.4/smr_v4.3_fast_db.fasta \\\n",
    "    --workdir RNA/2.rRNA_filtered/tmp/S${i}/ \\\n",
    "    --aligned RNA/2.rRNA_filtered/aligned/S${i}_rRNA \\\n",
    "    --other RNA/2.rRNA_filtered/unaligned/S${i}_non_rRNA\n",
    "    rm -r RNA/2.rRNA_filtered/tmp/S${i}\n",
    "done\n",
    "\n",
    "# single files\n",
    "for i in {1..9}; do\n",
    "    ${sortmerna_path}/bin/sortmerna --num_alignments 1 --fastx \\\n",
    "    --reads RNA/1.Qual_filtered_trimmomatic/S${i}_single.fastq \\\n",
    "    --ref ${sortmerna_path}/databases_v4.3.4/smr_v4.3_fast_db.fasta \\\n",
    "    --workdir RNA/2.rRNA_filtered/tmp/S${i}_single/ \\\n",
    "    --aligned RNA/2.rRNA_filtered/aligned/S${i}_single_rRNA \\\n",
    "    --other RNA/2.rRNA_filtered/unaligned/S${i}_single_non_rRNA\n",
    "    rm -r RNA/2.rRNA_filtered/tmp/S${i}_single\n",
    "done"
   ]
  },
  {
   "cell_type": "markdown",
   "metadata": {},
   "source": [
    "***"
   ]
  },
  {
   "cell_type": "markdown",
   "metadata": {},
   "source": [
    "## Metagenome assembly via metaSPAdes\n",
    "\n",
    "Assemble trimmed and filtered DNA sequencing reads with metaSPAdes"
   ]
  },
  {
   "cell_type": "code",
   "execution_count": null,
   "metadata": {
    "vscode": {
     "languageId": "shellscript"
    }
   },
   "outputs": [],
   "source": [
    "for i in {1..9}; do\n",
    "    spades.py --meta -k 41,61,81,101,127 \\\n",
    "    -1 DNA/1.Qual_filtered_trimmomatic/S${i}_R1.fastq \\\n",
    "    -2 DNA/1.Qual_filtered_trimmomatic/S${i}_R2.fastq \\\n",
    "    -s DNA/1.Qual_filtered_trimmomatic/S${i}_single.fastq \\\n",
    "    -o DNA/1.assembly/S${i}.spades/\n",
    "done\n"
   ]
  },
  {
   "cell_type": "markdown",
   "metadata": {},
   "source": [
    "#### Filter out short contigs"
   ]
  },
  {
   "cell_type": "code",
   "execution_count": null,
   "metadata": {
    "vscode": {
     "languageId": "shellscript"
    }
   },
   "outputs": [],
   "source": [
    "mkdir -p DNA/1.assembly.m1000\n",
    "for i in {1..9}; do\n",
    "    seqmagick convert --min-length 1000 DNA/1.assembly/S${i}.spades/assembly.fasta DNA/1.assembly.m1000/S${i}.assembly.m1000.fasta\n",
    "done\n"
   ]
  },
  {
   "cell_type": "markdown",
   "metadata": {},
   "source": [
    "***"
   ]
  }
 ],
 "metadata": {
  "language_info": {
   "name": "python"
  }
 },
 "nbformat": 4,
 "nbformat_minor": 2
}
