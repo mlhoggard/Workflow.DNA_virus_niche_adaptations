{
 "cells": [
  {
   "cell_type": "markdown",
   "metadata": {},
   "source": [
    "# 3.5 Inferred *Caudoviricetes* phylogeny"
   ]
  },
  {
   "cell_type": "markdown",
   "metadata": {},
   "source": [
    "## Software and versions used in this study\n",
    "\n",
    "- CheckV v0.7.0\n",
    "- prodigal-gv v2.9.0\n",
    "- HMMER v3.3.2\n",
    "- Clustal-Omega v1.2.4\n",
    "- IQ-TREE v2.2.2.2\n",
    "\n",
    "## Additional custom scripts\n",
    "\n",
    "Note: custom scripts have been tested in python v3.11.6 and R v4.2.1 and may not be stable in other versions.\n",
    "\n",
    "- scripts/viruses.caudo_phylogeny/filter_refseq_by_taxonomy.py\n",
    "- scripts/viruses.caudo_phylogeny/identify_core_genes.py\n",
    "- scripts/viruses.caudo_phylogeny/collate_core_genes.py\n",
    "- scripts/viruses.caudo_phylogeny/concatenate_protein_alignments.py\n",
    "\n",
    "*Required python packages: argparse, pandas, numpy, re, glob, os, Bio*\n",
    "\n",
    "## Databases used\n",
    "\n",
    "- viralRefSeq v223\n",
    "- VOGdb v222"
   ]
  },
  {
   "cell_type": "markdown",
   "metadata": {},
   "source": [
    "***"
   ]
  },
  {
   "cell_type": "markdown",
   "metadata": {},
   "source": [
    "## *Caudoviricetes* \"core genes\" phylogeny\n",
    "\n",
    "Workflow for inference of Caudoviricetes phylogeny via concatenated protein alignments of putative single copy core genes.\n",
    "\n",
    "For this study, trees of inferred *Caudoviricetes* phylogeny were generated via concatenated protein alignment of putatuve \"core genes\" based on the method described in Low *et al.*, 2019 (doi: 10.1038/s41564-019-0448-z).\n",
    "\n",
    "Notes: \n",
    "\n",
    "- Previous analyses (Low *et al.* 2019) used 2017 version of VOG and the identified IDs are no longer compatible with the latest version\n",
    "- in brief, the workflow below: \n",
    "  - re-identifies putative single copy core genes in *Caudoviricetes* viruses broadly following the method of Low *et al.* (2019), using latest viralRefSeq references and the latest VOG database\n",
    "  - extracts the identified putative core genes from viralRefSeq references, Waiwera vOTUs, and IMG/VR vOTUs\n",
    "  - generates filtered concatenated core gene protein alignments for all included *Caudoviricetes* viruses\n",
    "  - builds trees to infer phlyogeny and for visualisation in iTol\n",
    "\n",
    "Analysed data included: Waiwera vOTUs; high-quality sequences from the IMG/VR database; viralRefSeq references"
   ]
  },
  {
   "cell_type": "markdown",
   "metadata": {},
   "source": [
    "***"
   ]
  },
  {
   "cell_type": "markdown",
   "metadata": {},
   "source": [
    "## 1. Identify putative core genes\n",
    "\n",
    "*Caudoviricetes* \"core genes\" identified using the viral RefSeq database (v223), based on the method described Low *et al.*, 2019 (doi: 10.1038/s41564-019-0448-z).\n",
    "\n",
    "Note: a subsampled set of viralRefSeq *Caudoviricetes* genomes (*n*=50) is provided for basic workflow testing (*data/refseq.Caudoviricetes.n50.genomic.fna*). Runtimes provided are based on this *n*=50 test set."
   ]
  },
  {
   "cell_type": "markdown",
   "metadata": {},
   "source": [
    "#### Filter RefSeq by taxonomy string (*Caudoviricetes*)\n",
    "\n",
    "Note: for workflow testing, a subset of viralRefSeq *Caudoviricetes* genomes (*n*=50) are provided to use in place of *viral.1.genomic.gbff* below: *data/refseq.Caudoviricetes.n50.genomic.fna*\n"
   ]
  },
  {
   "cell_type": "code",
   "execution_count": null,
   "metadata": {
    "vscode": {
     "languageId": "shellscript"
    }
   },
   "outputs": [],
   "source": [
    "mkdir -p DNA/3.viruses/8.Caudoviricetes_phylogeny/0.core_genes.RefSeq\n",
    "\n",
    "module purge\n",
    "module load Python/3.11.6-foss-2023a\n",
    "\n",
    "scripts/viruses.caudo_phylogeny/filter_refseq_by_taxonomy.py \\\n",
    "-i Databases/viralRefSeq/viral.1.genomic.gbff \\\n",
    "-t Caudoviricetes \\\n",
    "-o DNA/3.viruses/8.Caudoviricetes_phylogeny/0.core_genes\n"
   ]
  },
  {
   "cell_type": "markdown",
   "metadata": {},
   "source": [
    "#### CheckV on viralRefSeq *Caudoviricetes* references"
   ]
  },
  {
   "cell_type": "code",
   "execution_count": null,
   "metadata": {
    "vscode": {
     "languageId": "shellscript"
    }
   },
   "outputs": [],
   "source": [
    "mkdir -p DNA/3.viruses/8.Caudoviricetes_phylogeny/0.core_genes.RefSeq/0.checkv_out\n",
    "\n",
    "# Run main analyses \n",
    "checkv end_to_end -t 16 --quiet \\\n",
    "DNA/3.viruses/8.Caudoviricetes_phylogeny/0.core_genes/Caudoviricetes.genomic.fna \\\n",
    "DNA/3.viruses/8.Caudoviricetes_phylogeny/0.core_genes.RefSeq/0.checkv_out"
   ]
  },
  {
   "cell_type": "markdown",
   "metadata": {},
   "source": [
    "*n=50 runtime < 3 min, MaxRSS < 3 GB (Full viralRefSeq: <40 hr, <8 GB)*"
   ]
  },
  {
   "cell_type": "markdown",
   "metadata": {},
   "source": [
    "#### Predict genes via prodigal-gv \n",
    "\n",
    "Note: \n",
    "\n",
    "- If you are running DRAMv for annotations already, you can also use the genes.faa file generated by DRAMv (which runs prodigal-gv in the background) rather than running prodigal-gv separately here.\n",
    "- For a large dataset (e.g. Caudoviricetes from full viralRefSeq or IMG/VR), you can speed up this step by first splitting the data into equal parts via BBMap's `partition.sh` and running as a slurm array "
   ]
  },
  {
   "cell_type": "code",
   "execution_count": null,
   "metadata": {
    "vscode": {
     "languageId": "shellscript"
    }
   },
   "outputs": [],
   "source": [
    "mkdir -p DNA/3.viruses/8.Caudoviricetes_phylogeny/0.core_genes.RefSeq/1.prodigal_gv\n",
    "\n",
    "prodigal-gv -p meta -q \\\n",
    "-i DNA/3.viruses/8.Caudoviricetes_phylogeny/0.core_genes/Caudoviricetes.genomic.fna \\\n",
    "-f \"gff\" -o DNA/3.viruses/8.Caudoviricetes_phylogeny/0.core_genes.RefSeq/1.prodigal_gv/Caudoviricetes.genomic.prod.gff \\\n",
    "-a DNA/3.viruses/8.Caudoviricetes_phylogeny/0.core_genes.RefSeq/1.prodigal_gv/Caudoviricetes.genomic.prod.faa \\\n",
    "-d DNA/3.viruses/8.Caudoviricetes_phylogeny/0.core_genes.RefSeq/1.prodigal_gv/Caudoviricetes.genomic.prod.fna\n"
   ]
  },
  {
   "cell_type": "markdown",
   "metadata": {},
   "source": [
    "*n=50 runtime ~1 min*\n"
   ]
  },
  {
   "cell_type": "markdown",
   "metadata": {},
   "source": [
    "#### hmmsearch of VOGdb HMMs against RefSeq references\n",
    "\n",
    "Notes: \n",
    "\n",
    "- requires downloaded VOGdb file *vog.hmm.tar.gz* (Compressed archive of the HMMER3 compatible Hidden Markov Models obtained from the multiple sequence alignments for each VOG)\n",
    "- For large datasets, to speed up the process you can split the initial sequences (e.g. via BBMap's partition.sh), run prodigal-gv on the subsets, then run hmmsearch on the individual prodigal-gv genes.faa files as slurm array \n",
    "  - In this case, you need to set `-Z` in the hmmsearch command based on the *total number of protein sequences* (i.e. sum the count of protein sequences in all subset prodigal-gv genes.faa files)"
   ]
  },
  {
   "cell_type": "code",
   "execution_count": null,
   "metadata": {
    "vscode": {
     "languageId": "shellscript"
    }
   },
   "outputs": [],
   "source": [
    "mkdir -p DNA/3.viruses/8.Caudoviricetes_phylogeny/0.core_genes.RefSeq/2.VOGdb_hmmsearch\n",
    "\n",
    "hmmsearch -E 1e-3 --cpu 24 \\\n",
    "--tblout DNA/3.viruses/8.Caudoviricetes_phylogeny/0.core_genes.RefSeq/2.VOGdb_hmmsearch/Caudoviricetes.genomic.vogdb \\\n",
    "--domtblout DNA/3.viruses/8.Caudoviricetes_phylogeny/0.core_genes.RefSeq/2.VOGdb_hmmsearch/Caudoviricetes.genomic.domain_hits.vogdb \\\n",
    "Databases/vogdb_v222/vogdb_all_hmm.hmm \\\n",
    "DNA/3.viruses/8.Caudoviricetes_phylogeny/0.core_genes.RefSeq/1.prodigal_gv/Caudoviricetes.genomic.prod.faa > /dev/null\n"
   ]
  },
  {
   "cell_type": "markdown",
   "metadata": {},
   "source": [
    "*n=50 runtime 20 min, MaxRSS < 0.5 GB (Full viralRefSeq: <16 hr, <8 GB; Waiwera vOTUs: <12 hr, <4 GB)*"
   ]
  },
  {
   "cell_type": "markdown",
   "metadata": {},
   "source": [
    "#### Assess *Caudoviricetes* viralRefSeq VOGdb gene hits for putative single copy core genes\n",
    "\n",
    "Note: requires downloaded VOGdb file *vog.annotations.tsv*\n",
    "\n",
    "Method:\n",
    "\n",
    "- References filtered for >= x% completeness (predicted via CheckV) (`-t 95`; default = 95)\n",
    "- putative core genes selected based on the following criteria:\n",
    "  - present in >= 10% of referece virus genomes\n",
    "  - average gene copy number <= 1.2\n",
    "  - average predicted protein length > 100 amino acid residues\n"
   ]
  },
  {
   "cell_type": "code",
   "execution_count": null,
   "metadata": {
    "vscode": {
     "languageId": "shellscript"
    }
   },
   "outputs": [],
   "source": [
    "mkdir -p DNA/3.viruses/8.Caudoviricetes_phylogeny/0.core_genes.RefSeq/3.predict_core_genes\n",
    "\n",
    "scripts/viruses.caudo_phylogeny/identify_core_genes.py \\\n",
    "-v DNA/3.viruses/8.Caudoviricetes_phylogeny/0.core_genes.RefSeq/2.VOGdb_hmmsearch/Caudoviricetes.genomic.vogdb \\\n",
    "-a Databases/vogdb_v222/vog.annotations.tsv \\\n",
    "-p DNA/3.viruses/8.Caudoviricetes_phylogeny/0.core_genes.RefSeq/1.prodigal_gv/Caudoviricetes.genomic.prod.faa \\\n",
    "-c DNA/3.viruses/8.Caudoviricetes_phylogeny/0.core_genes.RefSeq/0.checkv_out/quality_summary.tsv \\\n",
    "-t 95 \\\n",
    "-o DNA/3.viruses/8.Caudoviricetes_phylogeny/0.core_genes.RefSeq/3.predict_core_genes\n"
   ]
  },
  {
   "cell_type": "markdown",
   "metadata": {},
   "source": [
    "*n50 runtime ~1 s*"
   ]
  },
  {
   "cell_type": "markdown",
   "metadata": {},
   "source": [
    "***"
   ]
  },
  {
   "cell_type": "markdown",
   "metadata": {},
   "source": [
    "## 2. Caudoviricetes phylogeny inference via concatenated protein alignments of putative core genes\n",
    "\n",
    "Overview: \n",
    "\n",
    "- Identify protein sequences for putative *Caudoviricetes* \"core genes\" in all datasets of interest\n",
    "- Generate filtered contatenated protein alignments\n",
    "- Build and visualise tree\n",
    "\n",
    "Concatenated alignments and filtering based on the method described Low *et al.*, 2019 (doi: 10.1038/s41564-019-0448-z).\n",
    "\n",
    "For this study, analysed data included: Waiwera vOTUs; high-quality sequences from the IMG/VR database; viralRefSeq references. "
   ]
  },
  {
   "cell_type": "markdown",
   "metadata": {},
   "source": [
    "#### Collate core genes for viralRefSeq references\n",
    "\n",
    "Notes: \n",
    "\n",
    "- Generates protein sequence files for each \"core gene\" (based on VOG ID)\n",
    "- `-t` sets the minimum threshold of completeness (predicted via checkV) for a genome to be included\n",
    "- The reference list of core genes that were identified in this study are provided in `data/refseq.Caudoviricetes.core_genes.vogdb.annotations.tsv` (IDs based on VOGdb v222)\n",
    "  - Note: for the IDs to match appropriately, all annotations must be generated based on same version of VOGdb used to identify \"core genes\"\n",
    "- To include other sequences (i.e. your own data or other database sequences (e.g. IMG/VR)):\n",
    "  - First run hmmsearch on those sequences against the VOG database (as per above for RefSeq sequences), then run separately through *collate_core_genes.py*, then concatenate .faa files together for each VOG ID.\n",
    "  - Alternatively, combine datasets and run as one dataset through VOGdb hmmsearch, checkV, and prodigal-gv, and run as one batch through *collate_core_genes.py*. \n"
   ]
  },
  {
   "cell_type": "code",
   "execution_count": null,
   "metadata": {
    "vscode": {
     "languageId": "shellscript"
    }
   },
   "outputs": [],
   "source": [
    "# This example assumes three sets of files have been previously generated based on: viralRefSeq references; IMG/VR vOTUs; Waiwera vOTUs\n",
    "for dataset in viralRefseq imgvr Ww_vOTUs; do\n",
    "    mkdir -p DNA/3.viruses/8.Caudoviricetes_phylogeny/1.core_genes.faa_files.${dataset}\n",
    "    scripts/viruses.caudo_phylogeny/collate_core_genes.py \\\n",
    "    -r data/refseq.Caudoviricetes.core_genes.vogdb.annotations.tsv \\\n",
    "    -v DNA/3.viruses/8.Caudoviricetes_phylogeny/${dataset}/VOGdb_hmmsearch/${dataset}.vogdb \\\n",
    "    -p DNA/3.viruses/8.Caudoviricetes_phylogeny/${dataset}/prodigal_gv/${dataset}.prod.faa \\\n",
    "    -c DNA/3.viruses/8.Caudoviricetes_phylogeny/${dataset}/checkv_out/quality_summary.tsv \\\n",
    "    -t 85 \\\n",
    "    -o DNA/3.viruses/8.Caudoviricetes_phylogeny/1.core_genes.faa_files.${dataset}\n",
    "done\n",
    "\n",
    "mkdir -p DNA/3.viruses/8.Caudoviricetes_phylogeny/1.core_genes.faa_files.combined\n",
    "# concatenate faa files from each data subset above into one set: DNA/3.viruses/8.Caudoviricetes_phylogeny/1.core_genes.faa_files.combined\n",
    "# note: the end results should be a single *set* of protein sequence .faa files; one file per \"core gene\" VOG ID."
   ]
  },
  {
   "cell_type": "markdown",
   "metadata": {},
   "source": [
    "*n50 runtime ~20 s*"
   ]
  },
  {
   "cell_type": "markdown",
   "metadata": {},
   "source": [
    "#### Protein alignments for each marker gene\n",
    "\n",
    "Note: protein alignments at this step are independent for each \"core gene\", so can be run in parallel (e.g. slurm array) rather than a loop for large datasets."
   ]
  },
  {
   "cell_type": "code",
   "execution_count": null,
   "metadata": {
    "vscode": {
     "languageId": "shellscript"
    }
   },
   "outputs": [],
   "source": [
    "mkdir -p DNA/3.viruses/8.Caudoviricetes_phylogeny/2.core_genes.alignments\n",
    "\n",
    "for file in DNA/3.viruses/8.Caudoviricetes_phylogeny/1.core_genes.faa_files.combined/*.faa; do\n",
    "    echo \"Running protein alignment: ${file}\"\n",
    "    out_id=$(basename ${file} .faa)\n",
    "    clustalo --threads=8 --force --outfmt=fa \\\n",
    "    -i ${file} \\\n",
    "    -o DNA/3.viruses/8.Caudoviricetes_phylogeny/2.core_genes.alignments/aln.${out_id}.faa \\\n",
    "    --log=DNA/3.viruses/8.Caudoviricetes_phylogeny/2.core_genes.alignments/aln.${out_id}.log \n",
    "done\n"
   ]
  },
  {
   "cell_type": "markdown",
   "metadata": {},
   "source": [
    "#### Concatenate protein alignments\n",
    "\n",
    "Alignment filtering based on the method described Low *et al.*, 2019 (doi: 10.1038/s41564-019-0448-z)\n",
    "\n",
    "In brief:\n",
    "\n",
    "- marker MSAs individually trimmed by removing columns represented in <50% of taxa\n",
    "- individual alignments concatenated by introducing gaps in positions where markers were absent from a genome\n",
    "- concatenated MSA further filtered to remove genomes with <5% amino acid representation of the total alignment length"
   ]
  },
  {
   "cell_type": "code",
   "execution_count": null,
   "metadata": {
    "vscode": {
     "languageId": "shellscript"
    }
   },
   "outputs": [],
   "source": [
    "mkdir -p DNA/3.viruses/8.Caudoviricetes_phylogeny/3.concatenated_alignment\n",
    "\n",
    "scripts/viruses.caudo_phylogeny/concatenate_protein_alignments.py \\\n",
    "-r data/Refseq_vogdb.core_genes.annotations.tsv \\\n",
    "-a DNA/3.viruses/8.Caudoviricetes_phylogeny/2.core_genes.alignments \\\n",
    "-o DNA/3.viruses/8.Caudoviricetes_phylogeny/3.concatenated_alignment\n"
   ]
  },
  {
   "cell_type": "markdown",
   "metadata": {},
   "source": [
    "*n50 runtime ~10s*"
   ]
  },
  {
   "cell_type": "markdown",
   "metadata": {},
   "source": [
    "#### Build tree"
   ]
  },
  {
   "cell_type": "code",
   "execution_count": null,
   "metadata": {
    "vscode": {
     "languageId": "shellscript"
    }
   },
   "outputs": [],
   "source": [
    "cd DNA/3.viruses/8.Caudoviricetes_phylogeny/3.concatenated_alignment\n",
    "\n",
    "iqtree2 -T 32 -m TEST -B 1000 -s concatenated_alignment.faa"
   ]
  },
  {
   "cell_type": "markdown",
   "metadata": {},
   "source": [
    "*n=50 runtime 1 hr, MaxRSS < 1GB*"
   ]
  },
  {
   "cell_type": "markdown",
   "metadata": {},
   "source": [
    "## Visualise tree\n",
    "\n",
    "Visualise tree file (e.g. in iTol): `concatenated_alignment.faa.contree`"
   ]
  },
  {
   "cell_type": "markdown",
   "metadata": {},
   "source": [
    "***"
   ]
  }
 ],
 "metadata": {
  "language_info": {
   "name": "python"
  }
 },
 "nbformat": 4,
 "nbformat_minor": 2
}
