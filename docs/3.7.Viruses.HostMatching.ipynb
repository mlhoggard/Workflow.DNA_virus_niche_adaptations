{
 "cells": [
  {
   "cell_type": "markdown",
   "metadata": {},
   "source": [
    "# 3.7 Virus-Host matching"
   ]
  },
  {
   "cell_type": "markdown",
   "metadata": {},
   "source": [
    "## Software and versions used in this study\n",
    "\n",
    "- crass v1.0.1\n",
    "- blast v2.13.0\n",
    "\n",
    "## Additional custom scripts\n",
    "\n",
    "Note: custom scripts have been tested in python v3.11.6 and R v4.2.1 and may not be stable in other versions.\n",
    "\n",
    "- scripts/viruses.general/hostmatch_crispr_summary_table.py\n",
    "\n",
    "*Required python packages: argparse, pandas, numpy, re, glob*"
   ]
  },
  {
   "cell_type": "markdown",
   "metadata": {},
   "source": [
    "***"
   ]
  },
  {
   "cell_type": "markdown",
   "metadata": {},
   "source": [
    "## Virus-host matching"
   ]
  },
  {
   "cell_type": "markdown",
   "metadata": {},
   "source": [
    "For this study, putative prokaryote hosts for vOTUs were predicted using a combination of approaches, including CRISPR-spacer, tRNA, and genome homology via pairwise blast searches (BLAST v2.13.0), analysis of vOTUs co-binned with prokaryote MAGs, oligonucleotide frequency similarity via VirHostMatcher v1.0.0, and machine learning-based methods RaFAH v0.3 and HostG (accessed 06 Dec 2021).\n",
    "\n",
    "As fine scale information (e.g. crispr spacers, tRNA) might be lost (or reduced to one representative) during MAG dereplication, the sets of prokaryote MAGs and viral contigs prior to dereplication across assembiles (i.e. the pre-dRep MAGs and pre-vOTU-clustering viral contigs) were used for these analyses, with final results then summarised by representative (post-dRep) MAGs and (post-vOTU-clustering) vOTUs.\n",
    "\n",
    "Inconsistent results, including up to the rank of phylum, were frequently observed between the different methods, and ultimately only results based on CRISPR-spacer matches were presented."
   ]
  },
  {
   "cell_type": "markdown",
   "metadata": {},
   "source": [
    "## Predict prokaryote hosts of vOTUs via CRISPR-spacer matching"
   ]
  },
  {
   "cell_type": "markdown",
   "metadata": {},
   "source": [
    "#### Prep: Concatenate MAGs into one fna file \n",
    "\n",
    "(Note: for downstream analyses, it is helpful to ensure that unique MAG IDs are incorporated into the start of contig IDs for each MAG))"
   ]
  },
  {
   "cell_type": "code",
   "execution_count": null,
   "metadata": {
    "vscode": {
     "languageId": "shellscript"
    }
   },
   "outputs": [],
   "source": [
    "mkdir -p DNA/3.viruses/10.host_prediction/crispr/mags\n",
    "cat DNA/2.prokaryote_mags/2.bin_dereplication_DAS_Tool/DASTool_All_bins/*.fa > DNA/3.viruses/10.host_prediction/crispr/mags/all.hosts.fna"
   ]
  },
  {
   "cell_type": "markdown",
   "metadata": {},
   "source": [
    "#### Identify CRISPR spacers from quality filtered sequencing reads via *crass*"
   ]
  },
  {
   "cell_type": "code",
   "execution_count": null,
   "metadata": {
    "vscode": {
     "languageId": "shellscript"
    }
   },
   "outputs": [],
   "source": [
    "mkdir -p DNA/3.viruses/10.host_prediction/crispr\n",
    "\n",
    "# Identify spacers\n",
    "for i in {1..9}; do\n",
    "    mkdir -p DNA/3.viruses/10.host_prediction/crispr/S${i}\n",
    "    /path/to/crass/bin/crass \\\n",
    "    DNA/1.Qual_filtered_trimmomatic/S${i}_R1.fastq \\\n",
    "    DNA/1.Qual_filtered_trimmomatic/S${i}_R2.fastq \\\n",
    "    -o DNA/3.viruses/10.host_prediction/crispr/S${i}/\n",
    "done"
   ]
  },
  {
   "cell_type": "markdown",
   "metadata": {},
   "source": [
    "#### Extract CRISPR spacer sequences"
   ]
  },
  {
   "cell_type": "code",
   "execution_count": null,
   "metadata": {
    "vscode": {
     "languageId": "shellscript"
    }
   },
   "outputs": [],
   "source": [
    "mkdir -p DNA/3.viruses/10.host_prediction/crispr/spacer_seqs\n",
    "\n",
    "# Extract spacers\n",
    "for i in {1..9}; do\n",
    "    /path/to/crass/bin/crisprtools extract \\\n",
    "    -o DNA/3.viruses/10.host_prediction/crispr/ \\\n",
    "    -O DNA/3.viruses/10.host_prediction/crispr/S${i}/ \\\n",
    "    -s DNA/3.viruses/10.host_prediction/crispr/S${i}/crass.crispr \\\n",
    "    > DNA/3.viruses/10.host_prediction/crispr/spacer_seqs/S${i}_spacers.fna\n",
    "done\n",
    "\n",
    "# Add sample info to sequence headers of spacers.fa files\n",
    "for i in {1..9}; do\n",
    "    sed -i \"s/>/>S${i}_/g\" DNA/3.viruses/10.host_prediction/crispr/spacer_seqs/S${i}_spacers.fna\n",
    "done\n",
    "\n",
    "# Concatenate spacer sequences\n",
    "cat DNA/3.viruses/10.host_prediction/crispr/spacer_seqs/*.fna \\\n",
    "> DNA/3.viruses/10.host_prediction/crispr/spacer_seqs/all_spacer_seqs.fna"
   ]
  },
  {
   "cell_type": "markdown",
   "metadata": {},
   "source": [
    "#### Search CRISPR spacer matches in MAGs and vOTUs via *blastn*"
   ]
  },
  {
   "cell_type": "code",
   "execution_count": null,
   "metadata": {
    "vscode": {
     "languageId": "shellscript"
    }
   },
   "outputs": [],
   "source": [
    "# build index\n",
    "makeblastdb -dbtype nucl \\\n",
    "-in DNA/3.viruses/10.host_prediction/crispr/spacer_seqs/all_spacer_seqs.fna \\\n",
    "-out DNA/3.viruses/10.host_prediction/crispr/spacer_seqs/all_spacer_seqs.fna\n",
    "\n",
    "# blast search against MAGs\n",
    "blastn -num_threads 12 -dust no -word_size 7 \\\n",
    "-query DNA/3.viruses/10.host_prediction/crispr/mags/all.hosts.fna \\\n",
    "-db DNA/3.viruses/10.host_prediction/crispr/spacer_seqs/all_spacer_seqs.fna \\\n",
    "-outfmt \"6 qseqid qlen sseqid slen pident length mismatch gapopen qstart qend sstart send evalue bitscore qcovs\" \\\n",
    "-out DNA/3.viruses/10.host_prediction/crispr/blastn_crisprSpacers.mags.txt\n",
    "\n",
    "# blast search against vOTUs\n",
    "blastn -num_threads 12 \\\n",
    "-query DNA/3.viruses/5.checkv_vOTUs/vOTUs.fna \\\n",
    "-db DNA/3.viruses/10.host_prediction/crispr/spacer_seqs/all_spacer_seqs.fna \\\n",
    "-dust no -word_size 7 \\\n",
    "-outfmt \"6 qseqid qlen sseqid slen pident length mismatch gapopen qstart qend sstart send evalue bitscore qcovs\" \\\n",
    "-out DNA/3.viruses/10.host_prediction/crispr/blastn_crisprSpacers.votus.txt\n"
   ]
  },
  {
   "cell_type": "markdown",
   "metadata": {},
   "source": [
    "#### Compile crispr-spacer host matching summary results table via script *hostmatch_crispr_summary_table.py*\n",
    "\n",
    "Note: \n",
    "\n",
    "- blast results (as above) must be in the following format: `\"6 qseqid qlen sseqid slen pident length mismatch gapopen qstart qend sstart send evalue bitscore qcovs\"`\n",
    "- `-m 0` sets the allowed number of mismatches (over full length of spacer sequence) (default = 0)\n",
    "- `-b 2000` sets the maximum number of blast hits per vOTU to return (based on lowest evalue score) (default = 100)\n",
    "- `-t 2` sets minimum number of *distinct* spacer matches that need to occur between individual viruses and hosts to retain results for each virus-host pair (e.g. for `-t 2`, virus-host pairs are excluded if they share <2 unique spacer sequences between them)"
   ]
  },
  {
   "cell_type": "code",
   "execution_count": null,
   "metadata": {
    "vscode": {
     "languageId": "shellscript"
    }
   },
   "outputs": [],
   "source": [
    "scripts/viruses.general/hostmatch_crispr_summary_table.py \\\n",
    "-m 0 -b 2000 -t 2 \\\n",
    "-p DNA/3.viruses/10.host_prediction/crispr/blastn_crisprSpacers.mags.txt \\\n",
    "-v DNA/3.viruses/10.host_prediction/crispr/blastn_crisprSpacers.votus.txt \\\n",
    "-o DNA/3.viruses/10.host_prediction/crispr/host_matching.crispr.summary_table.tsv"
   ]
  },
  {
   "cell_type": "markdown",
   "metadata": {},
   "source": [
    "***"
   ]
  }
 ],
 "metadata": {
  "language_info": {
   "name": "python"
  }
 },
 "nbformat": 4,
 "nbformat_minor": 2
}
